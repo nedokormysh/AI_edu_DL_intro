{
  "nbformat": 4,
  "nbformat_minor": 0,
  "metadata": {
    "colab": {
      "provenance": [],
      "gpuType": "T4",
      "toc_visible": true,
      "include_colab_link": true
    },
    "kernelspec": {
      "name": "python3",
      "display_name": "Python 3"
    },
    "language_info": {
      "name": "python"
    },
    "accelerator": "GPU"
  },
  "cells": [
    {
      "cell_type": "markdown",
      "metadata": {
        "id": "view-in-github",
        "colab_type": "text"
      },
      "source": [
        "<a href=\"https://colab.research.google.com/github/nedokormysh/Stepik_Ai_edu_DL_intro/blob/week_6_enhance_speed/NN_improvements_hometask.ipynb\" target=\"_parent\"><img src=\"https://colab.research.google.com/assets/colab-badge.svg\" alt=\"Open In Colab\"/></a>"
      ]
    },
    {
      "cell_type": "markdown",
      "source": [
        "# Домашнее задание\n",
        "\n",
        "В этом домашнем задании вы обучите полносвязную нейронную сеть для решения задачи классификации на датасете CIFAR-10."
      ],
      "metadata": {
        "id": "I6ymSdFRMVhr"
      }
    },
    {
      "cell_type": "markdown",
      "source": [
        "Это домашнее задание оформлено в не совсем традиционном формате. Не хочется заставлять вас копировать код. Вы будете менять уже существующую архитектуру, а затем отвечать на вопросы."
      ],
      "metadata": {
        "id": "x8hIUNzwgV3s"
      }
    },
    {
      "cell_type": "markdown",
      "source": [
        "## Задание 1\n",
        "\n",
        "Запустите данный изначально код и замерьте качество (accuracy) на тестовых данных. Ответ округлите до целого числа.\n",
        "\n"
      ],
      "metadata": {
        "id": "zKUC8Iqn0K04"
      }
    },
    {
      "cell_type": "code",
      "source": [
        "import torch\n",
        "import torch.nn as nn\n",
        "import torchvision\n",
        "import torchvision.transforms as transforms\n",
        "import random\n",
        "import numpy as np\n",
        "\n",
        "np.random.seed(0)\n",
        "random.seed(0)\n",
        "torch.manual_seed(0)"
      ],
      "metadata": {
        "id": "klXu4u9XHNtG",
        "outputId": "66e7f60b-2c58-482a-97d5-e587842c199c",
        "colab": {
          "base_uri": "https://localhost:8080/"
        }
      },
      "execution_count": 21,
      "outputs": [
        {
          "output_type": "execute_result",
          "data": {
            "text/plain": [
              "<torch._C.Generator at 0x7ba4543713d0>"
            ]
          },
          "metadata": {},
          "execution_count": 21
        }
      ]
    },
    {
      "cell_type": "code",
      "source": [
        "# Check Device configuration\n",
        "device = torch.device('cuda' if torch.cuda.is_available() else 'cpu')\n",
        "\n",
        "# Define Hyper-parameters\n",
        "input_size = 3072\n",
        "num_classes = 10\n",
        "num_epochs = 10\n",
        "batch_size = 32\n",
        "learning_rate = 0.001"
      ],
      "metadata": {
        "id": "4ZugxMyOHKvw"
      },
      "execution_count": 22,
      "outputs": []
    },
    {
      "cell_type": "code",
      "source": [
        "# MNIST dataset\n",
        "transform = transforms.Compose(\n",
        "    [transforms.ToTensor(),\n",
        "     transforms.Normalize((0.5, 0.5, 0.5), (0.5, 0.5, 0.5))])\n",
        "\n",
        "train_dataset = torchvision.datasets.CIFAR10(root='../../data',\n",
        "                                           train=True,\n",
        "                                           transform=transform,\n",
        "                                           download=True)\n",
        "\n",
        "test_dataset = torchvision.datasets.CIFAR10(root='../../data',\n",
        "                                          train=False,\n",
        "                                          transform=transform)"
      ],
      "metadata": {
        "id": "esjzDEyIHNvE",
        "outputId": "4a324cbe-04d6-410f-c174-b37109bef35d",
        "colab": {
          "base_uri": "https://localhost:8080/"
        }
      },
      "execution_count": 23,
      "outputs": [
        {
          "output_type": "stream",
          "name": "stdout",
          "text": [
            "Files already downloaded and verified\n"
          ]
        }
      ]
    },
    {
      "cell_type": "code",
      "source": [
        "# Data loader\n",
        "train_loader = torch.utils.data.DataLoader(dataset=train_dataset,\n",
        "                                           batch_size=batch_size,\n",
        "                                           shuffle=True)\n",
        "\n",
        "test_loader = torch.utils.data.DataLoader(dataset=test_dataset,\n",
        "                                          batch_size=batch_size,\n",
        "                                          shuffle=False)"
      ],
      "metadata": {
        "id": "wbNr0TWOHVRI"
      },
      "execution_count": 24,
      "outputs": []
    },
    {
      "cell_type": "code",
      "source": [
        "# # Fully connected neural network\n",
        "# class NeuralNet(nn.Module):\n",
        "#     def __init__(self, input_size, num_classes):\n",
        "#         super(NeuralNet, self).__init__()\n",
        "#         self.fc1 = nn.Linear(input_size, 1000)\n",
        "#         self.relu = nn.ReLU()\n",
        "#         self.fc2 = nn.Linear(1000, num_classes)\n",
        "# #        self.apply(self._init_weights)\n",
        "\n",
        "#     def _init_weights(self, module): # метод для различных \"умных\" инициализаций весов\n",
        "#         if isinstance(module, nn.Linear):\n",
        "#             module.weight.data.normal_(mean=0.0, std=0.15)\n",
        "#             if module.bias is not None:\n",
        "#                 module.bias.data.zero_()\n",
        "\n",
        "#     def forward(self, x):\n",
        "#         out = self.fc1(x)\n",
        "#         out = self.relu(out)\n",
        "#         out = self.fc2(out)\n",
        "#         return out\n",
        "\n",
        "# model = NeuralNet(input_size, num_classes).to(device)"
      ],
      "metadata": {
        "id": "eo2rzAFTHXZo"
      },
      "execution_count": 25,
      "outputs": []
    },
    {
      "cell_type": "code",
      "source": [
        "# model"
      ],
      "metadata": {
        "id": "SUyBhEPgeCxr"
      },
      "execution_count": 26,
      "outputs": []
    },
    {
      "cell_type": "code",
      "source": [
        "# # Loss and optimizer\n",
        "# criterion = nn.CrossEntropyLoss()\n",
        "# optimizer = torch.optim.Adam(model.parameters(), lr=learning_rate)"
      ],
      "metadata": {
        "id": "7pwBBTACHa5i"
      },
      "execution_count": 27,
      "outputs": []
    },
    {
      "cell_type": "code",
      "execution_count": 28,
      "metadata": {
        "id": "amZzGJCmFnpp"
      },
      "outputs": [],
      "source": [
        "# np.random.seed(0)\n",
        "# random.seed(0)\n",
        "# torch.manual_seed(0)\n",
        "\n",
        "# loss_log = []\n",
        "\n",
        "# # Train the model\n",
        "# total_step = len(train_loader)\n",
        "# for epoch in range(num_epochs):\n",
        "#     for i, (images, labels) in enumerate(train_loader):\n",
        "#         # Move tensors to the configured device\n",
        "#         images = images.reshape(-1, 32*32*3).to(device)\n",
        "#         labels = labels.to(device)\n",
        "\n",
        "#         # Forward pass\n",
        "#         outputs = model(images)\n",
        "#         loss = criterion(outputs, labels)\n",
        "\n",
        "#         # Backprpagation and optimization\n",
        "#         optimizer.zero_grad()\n",
        "#         loss.backward()\n",
        "#         optimizer.step()\n",
        "\n",
        "#         if (i+1) % 100 == 0:\n",
        "#             print ('Epoch [{}/{}], Step [{}/{}], Loss: {:.4f}'\n",
        "#                    .format(epoch+1, num_epochs, i+1, total_step, loss.item()))\n",
        "#             loss_log.append(loss.data.cpu().numpy())"
      ]
    },
    {
      "cell_type": "code",
      "source": [
        "# from matplotlib import pyplot as plt\n",
        "\n",
        "# plt.figure(figsize=(10,8))\n",
        "# plt.plot(loss_log)"
      ],
      "metadata": {
        "id": "kSbm3gSAFomK"
      },
      "execution_count": 29,
      "outputs": []
    },
    {
      "cell_type": "code",
      "source": [
        "# np.random.seed(0)\n",
        "# random.seed(0)\n",
        "# torch.manual_seed(0)\n",
        "\n",
        "# # Test the model\n",
        "# # In the test phase, don't need to compute gradients (for memory efficiency)\n",
        "# with torch.no_grad():\n",
        "#     correct = 0\n",
        "#     total = 0\n",
        "#     for images, labels in test_loader:\n",
        "#         images = images.reshape(-1, 32*32*3).to(device)\n",
        "#         labels = labels.to(device)\n",
        "#         outputs = model(images)\n",
        "#         _, predicted = torch.max(outputs.data, 1)\n",
        "#         total += labels.size(0)\n",
        "#         correct += (predicted == labels).sum().item()\n",
        "\n",
        "#     print('Accuracy of the network on the test images: {} %'.format(100 * correct / total))\n",
        "\n",
        "# # Save the model checkpoint\n",
        "# torch.save(model.state_dict(), 'model.ckpt')"
      ],
      "metadata": {
        "id": "yqbF_dRiHfQf"
      },
      "execution_count": 30,
      "outputs": []
    },
    {
      "cell_type": "markdown",
      "source": [
        "## Задание 2\n",
        "\n",
        "Добавьте еще один полносвязный слой (перед выходным) из 100 нейронов + функцию активации ReLU и запустите обучение. Выберите в ответе accuracy, наиболее близкую к полученной на тесте.\n",
        "\n"
      ],
      "metadata": {
        "id": "wIbsDgESrcZB"
      }
    },
    {
      "cell_type": "code",
      "source": [
        "# Fully connected neural network\n",
        "class NeuralNet_2(nn.Module):\n",
        "    def __init__(self, input_size, num_classes):\n",
        "        super(NeuralNet_2, self).__init__()\n",
        "        self.fc1 = nn.Linear(input_size, 1000)\n",
        "        self.relu = nn.ReLU()\n",
        "        self.fc1_1 = nn.Linear(1000, 100)\n",
        "        self.relu1_1 = nn.ReLU()\n",
        "        self.fc2 = nn.Linear(100, num_classes)\n",
        "#        self.apply(self._init_weights)\n",
        "\n",
        "    def _init_weights(self, module): # метод для различных \"умных\" инициализаций весов\n",
        "        if isinstance(module, nn.Linear):\n",
        "            module.weight.data.normal_(mean=0.0, std=0.15)\n",
        "            if module.bias is not None:\n",
        "                module.bias.data.zero_()\n",
        "\n",
        "    def forward(self, x):\n",
        "        out = self.fc1(x)\n",
        "        out = self.relu(out)\n",
        "        out = self.fc1_1(out)\n",
        "        out = self.relu1_1(out)\n",
        "        out = self.fc2(out)\n",
        "        return out\n",
        "\n",
        "model_2 = NeuralNet_2(input_size, num_classes).to(device)"
      ],
      "metadata": {
        "id": "k0CSK18triM-"
      },
      "execution_count": 31,
      "outputs": []
    },
    {
      "cell_type": "code",
      "source": [
        "model_2"
      ],
      "metadata": {
        "id": "U2lV50RFvCv1",
        "outputId": "193a6e6f-2a6d-499a-a78e-2525aff32a1e",
        "colab": {
          "base_uri": "https://localhost:8080/"
        }
      },
      "execution_count": 32,
      "outputs": [
        {
          "output_type": "execute_result",
          "data": {
            "text/plain": [
              "NeuralNet_2(\n",
              "  (fc1): Linear(in_features=3072, out_features=1000, bias=True)\n",
              "  (relu): ReLU()\n",
              "  (fc1_1): Linear(in_features=1000, out_features=100, bias=True)\n",
              "  (relu1_1): ReLU()\n",
              "  (fc2): Linear(in_features=100, out_features=10, bias=True)\n",
              ")"
            ]
          },
          "metadata": {},
          "execution_count": 32
        }
      ]
    },
    {
      "cell_type": "code",
      "source": [
        "# Loss and optimizer\n",
        "criterion = nn.CrossEntropyLoss()\n",
        "optimizer = torch.optim.Adam(model_2.parameters(), lr=learning_rate)"
      ],
      "metadata": {
        "id": "4MLvo6mtvHez"
      },
      "execution_count": 35,
      "outputs": []
    },
    {
      "cell_type": "code",
      "source": [
        "np.random.seed(0)\n",
        "random.seed(0)\n",
        "torch.manual_seed(0)\n",
        "\n",
        "loss_log = []\n",
        "\n",
        "# Train the model\n",
        "total_step = len(train_loader)\n",
        "for epoch in range(num_epochs):\n",
        "    for i, (images, labels) in enumerate(train_loader):\n",
        "        # Move tensors to the configured device\n",
        "        images = images.reshape(-1, 32*32*3).to(device)\n",
        "        labels = labels.to(device)\n",
        "\n",
        "        # Forward pass\n",
        "        outputs = model_2(images)\n",
        "        loss = criterion(outputs, labels)\n",
        "\n",
        "        # Backprpagation and optimization\n",
        "        optimizer.zero_grad()\n",
        "        loss.backward()\n",
        "        optimizer.step()\n",
        "\n",
        "        if (i+1) % 100 == 0:\n",
        "            print ('Epoch [{}/{}], Step [{}/{}], Loss: {:.4f}'\n",
        "                   .format(epoch+1, num_epochs, i+1, total_step, loss.item()))\n",
        "            loss_log.append(loss.data.cpu().numpy())"
      ],
      "metadata": {
        "id": "ZKfw5wjyv3AB",
        "outputId": "020aab53-3626-4cab-be0e-7389ca962bc1",
        "colab": {
          "base_uri": "https://localhost:8080/"
        }
      },
      "execution_count": 36,
      "outputs": [
        {
          "output_type": "stream",
          "name": "stdout",
          "text": [
            "Epoch [1/10], Step [100/1563], Loss: 2.1337\n",
            "Epoch [1/10], Step [200/1563], Loss: 1.8732\n",
            "Epoch [1/10], Step [300/1563], Loss: 1.6119\n",
            "Epoch [1/10], Step [400/1563], Loss: 1.8913\n",
            "Epoch [1/10], Step [500/1563], Loss: 1.8232\n",
            "Epoch [1/10], Step [600/1563], Loss: 1.7193\n",
            "Epoch [1/10], Step [700/1563], Loss: 1.4366\n",
            "Epoch [1/10], Step [800/1563], Loss: 1.6793\n",
            "Epoch [1/10], Step [900/1563], Loss: 1.5317\n",
            "Epoch [1/10], Step [1000/1563], Loss: 1.4085\n",
            "Epoch [1/10], Step [1100/1563], Loss: 1.6790\n",
            "Epoch [1/10], Step [1200/1563], Loss: 1.5380\n",
            "Epoch [1/10], Step [1300/1563], Loss: 1.4259\n",
            "Epoch [1/10], Step [1400/1563], Loss: 1.4185\n",
            "Epoch [1/10], Step [1500/1563], Loss: 1.4559\n",
            "Epoch [2/10], Step [100/1563], Loss: 1.5025\n",
            "Epoch [2/10], Step [200/1563], Loss: 1.4655\n",
            "Epoch [2/10], Step [300/1563], Loss: 1.4740\n",
            "Epoch [2/10], Step [400/1563], Loss: 1.5843\n",
            "Epoch [2/10], Step [500/1563], Loss: 1.6245\n",
            "Epoch [2/10], Step [600/1563], Loss: 1.5893\n",
            "Epoch [2/10], Step [700/1563], Loss: 1.5943\n",
            "Epoch [2/10], Step [800/1563], Loss: 1.7521\n",
            "Epoch [2/10], Step [900/1563], Loss: 1.3937\n",
            "Epoch [2/10], Step [1000/1563], Loss: 1.2841\n",
            "Epoch [2/10], Step [1100/1563], Loss: 1.3741\n",
            "Epoch [2/10], Step [1200/1563], Loss: 1.3901\n",
            "Epoch [2/10], Step [1300/1563], Loss: 1.8304\n",
            "Epoch [2/10], Step [1400/1563], Loss: 1.3782\n",
            "Epoch [2/10], Step [1500/1563], Loss: 1.5242\n",
            "Epoch [3/10], Step [100/1563], Loss: 1.5213\n",
            "Epoch [3/10], Step [200/1563], Loss: 1.4466\n",
            "Epoch [3/10], Step [300/1563], Loss: 1.2308\n",
            "Epoch [3/10], Step [400/1563], Loss: 1.2682\n",
            "Epoch [3/10], Step [500/1563], Loss: 1.0448\n",
            "Epoch [3/10], Step [600/1563], Loss: 2.0037\n",
            "Epoch [3/10], Step [700/1563], Loss: 1.1244\n",
            "Epoch [3/10], Step [800/1563], Loss: 1.5616\n",
            "Epoch [3/10], Step [900/1563], Loss: 1.2209\n",
            "Epoch [3/10], Step [1000/1563], Loss: 1.5933\n",
            "Epoch [3/10], Step [1100/1563], Loss: 1.4693\n",
            "Epoch [3/10], Step [1200/1563], Loss: 1.2062\n",
            "Epoch [3/10], Step [1300/1563], Loss: 1.2456\n",
            "Epoch [3/10], Step [1400/1563], Loss: 1.2375\n",
            "Epoch [3/10], Step [1500/1563], Loss: 1.3695\n",
            "Epoch [4/10], Step [100/1563], Loss: 1.1324\n",
            "Epoch [4/10], Step [200/1563], Loss: 1.6371\n",
            "Epoch [4/10], Step [300/1563], Loss: 1.3617\n",
            "Epoch [4/10], Step [400/1563], Loss: 1.0252\n",
            "Epoch [4/10], Step [500/1563], Loss: 1.1164\n",
            "Epoch [4/10], Step [600/1563], Loss: 1.1313\n",
            "Epoch [4/10], Step [700/1563], Loss: 1.6517\n",
            "Epoch [4/10], Step [800/1563], Loss: 1.4743\n",
            "Epoch [4/10], Step [900/1563], Loss: 1.1015\n",
            "Epoch [4/10], Step [1000/1563], Loss: 0.8601\n",
            "Epoch [4/10], Step [1100/1563], Loss: 1.2226\n",
            "Epoch [4/10], Step [1200/1563], Loss: 1.1124\n",
            "Epoch [4/10], Step [1300/1563], Loss: 1.2810\n",
            "Epoch [4/10], Step [1400/1563], Loss: 1.4318\n",
            "Epoch [4/10], Step [1500/1563], Loss: 1.0033\n",
            "Epoch [5/10], Step [100/1563], Loss: 1.4749\n",
            "Epoch [5/10], Step [200/1563], Loss: 0.8381\n",
            "Epoch [5/10], Step [300/1563], Loss: 1.3603\n",
            "Epoch [5/10], Step [400/1563], Loss: 1.0786\n",
            "Epoch [5/10], Step [500/1563], Loss: 1.0758\n",
            "Epoch [5/10], Step [600/1563], Loss: 0.9235\n",
            "Epoch [5/10], Step [700/1563], Loss: 1.1075\n",
            "Epoch [5/10], Step [800/1563], Loss: 0.9818\n",
            "Epoch [5/10], Step [900/1563], Loss: 1.5467\n",
            "Epoch [5/10], Step [1000/1563], Loss: 1.1083\n",
            "Epoch [5/10], Step [1100/1563], Loss: 1.5244\n",
            "Epoch [5/10], Step [1200/1563], Loss: 1.2017\n",
            "Epoch [5/10], Step [1300/1563], Loss: 0.9400\n",
            "Epoch [5/10], Step [1400/1563], Loss: 1.2380\n",
            "Epoch [5/10], Step [1500/1563], Loss: 1.1002\n",
            "Epoch [6/10], Step [100/1563], Loss: 1.1119\n",
            "Epoch [6/10], Step [200/1563], Loss: 0.9588\n",
            "Epoch [6/10], Step [300/1563], Loss: 0.8218\n",
            "Epoch [6/10], Step [400/1563], Loss: 0.9282\n",
            "Epoch [6/10], Step [500/1563], Loss: 1.1158\n",
            "Epoch [6/10], Step [600/1563], Loss: 1.2550\n",
            "Epoch [6/10], Step [700/1563], Loss: 1.1317\n",
            "Epoch [6/10], Step [800/1563], Loss: 1.1461\n",
            "Epoch [6/10], Step [900/1563], Loss: 1.0817\n",
            "Epoch [6/10], Step [1000/1563], Loss: 1.3536\n",
            "Epoch [6/10], Step [1100/1563], Loss: 1.1573\n",
            "Epoch [6/10], Step [1200/1563], Loss: 1.2512\n",
            "Epoch [6/10], Step [1300/1563], Loss: 1.3399\n",
            "Epoch [6/10], Step [1400/1563], Loss: 1.0853\n",
            "Epoch [6/10], Step [1500/1563], Loss: 1.4008\n",
            "Epoch [7/10], Step [100/1563], Loss: 1.1092\n",
            "Epoch [7/10], Step [200/1563], Loss: 1.0337\n",
            "Epoch [7/10], Step [300/1563], Loss: 0.9645\n",
            "Epoch [7/10], Step [400/1563], Loss: 0.9242\n",
            "Epoch [7/10], Step [500/1563], Loss: 1.6216\n",
            "Epoch [7/10], Step [600/1563], Loss: 1.4739\n",
            "Epoch [7/10], Step [700/1563], Loss: 0.9036\n",
            "Epoch [7/10], Step [800/1563], Loss: 0.9573\n",
            "Epoch [7/10], Step [900/1563], Loss: 1.0727\n",
            "Epoch [7/10], Step [1000/1563], Loss: 1.1202\n",
            "Epoch [7/10], Step [1100/1563], Loss: 1.5990\n",
            "Epoch [7/10], Step [1200/1563], Loss: 1.0674\n",
            "Epoch [7/10], Step [1300/1563], Loss: 1.0821\n",
            "Epoch [7/10], Step [1400/1563], Loss: 1.1794\n",
            "Epoch [7/10], Step [1500/1563], Loss: 1.1181\n",
            "Epoch [8/10], Step [100/1563], Loss: 1.0414\n",
            "Epoch [8/10], Step [200/1563], Loss: 1.0076\n",
            "Epoch [8/10], Step [300/1563], Loss: 0.7828\n",
            "Epoch [8/10], Step [400/1563], Loss: 0.8472\n",
            "Epoch [8/10], Step [500/1563], Loss: 0.6375\n",
            "Epoch [8/10], Step [600/1563], Loss: 0.7770\n",
            "Epoch [8/10], Step [700/1563], Loss: 1.3593\n",
            "Epoch [8/10], Step [800/1563], Loss: 1.0530\n",
            "Epoch [8/10], Step [900/1563], Loss: 1.1268\n",
            "Epoch [8/10], Step [1000/1563], Loss: 1.3147\n",
            "Epoch [8/10], Step [1100/1563], Loss: 0.8980\n",
            "Epoch [8/10], Step [1200/1563], Loss: 1.0349\n",
            "Epoch [8/10], Step [1300/1563], Loss: 1.4673\n",
            "Epoch [8/10], Step [1400/1563], Loss: 0.9291\n",
            "Epoch [8/10], Step [1500/1563], Loss: 0.8805\n",
            "Epoch [9/10], Step [100/1563], Loss: 0.8433\n",
            "Epoch [9/10], Step [200/1563], Loss: 0.9680\n",
            "Epoch [9/10], Step [300/1563], Loss: 1.0975\n",
            "Epoch [9/10], Step [400/1563], Loss: 0.9098\n",
            "Epoch [9/10], Step [500/1563], Loss: 1.0750\n",
            "Epoch [9/10], Step [600/1563], Loss: 1.1409\n",
            "Epoch [9/10], Step [700/1563], Loss: 0.8657\n",
            "Epoch [9/10], Step [800/1563], Loss: 0.7686\n",
            "Epoch [9/10], Step [900/1563], Loss: 1.1535\n",
            "Epoch [9/10], Step [1000/1563], Loss: 0.8329\n",
            "Epoch [9/10], Step [1100/1563], Loss: 1.2130\n",
            "Epoch [9/10], Step [1200/1563], Loss: 1.4271\n",
            "Epoch [9/10], Step [1300/1563], Loss: 0.8928\n",
            "Epoch [9/10], Step [1400/1563], Loss: 1.1202\n",
            "Epoch [9/10], Step [1500/1563], Loss: 0.9268\n",
            "Epoch [10/10], Step [100/1563], Loss: 0.9849\n",
            "Epoch [10/10], Step [200/1563], Loss: 1.2244\n",
            "Epoch [10/10], Step [300/1563], Loss: 0.6335\n",
            "Epoch [10/10], Step [400/1563], Loss: 0.5173\n",
            "Epoch [10/10], Step [500/1563], Loss: 1.3230\n",
            "Epoch [10/10], Step [600/1563], Loss: 0.8676\n",
            "Epoch [10/10], Step [700/1563], Loss: 1.4105\n",
            "Epoch [10/10], Step [800/1563], Loss: 1.4515\n",
            "Epoch [10/10], Step [900/1563], Loss: 0.9935\n",
            "Epoch [10/10], Step [1000/1563], Loss: 0.8638\n",
            "Epoch [10/10], Step [1100/1563], Loss: 0.9098\n",
            "Epoch [10/10], Step [1200/1563], Loss: 0.9710\n",
            "Epoch [10/10], Step [1300/1563], Loss: 0.7110\n",
            "Epoch [10/10], Step [1400/1563], Loss: 1.1272\n",
            "Epoch [10/10], Step [1500/1563], Loss: 0.9474\n"
          ]
        }
      ]
    },
    {
      "cell_type": "code",
      "source": [
        "np.random.seed(0)\n",
        "random.seed(0)\n",
        "torch.manual_seed(0)\n",
        "\n",
        "# Test the model\n",
        "# In the test phase, don't need to compute gradients (for memory efficiency)\n",
        "with torch.no_grad():\n",
        "    correct = 0\n",
        "    total = 0\n",
        "    for images, labels in test_loader:\n",
        "        images = images.reshape(-1, 32*32*3).to(device)\n",
        "        labels = labels.to(device)\n",
        "        outputs = model_2(images)\n",
        "        _, predicted = torch.max(outputs.data, 1)\n",
        "        total += labels.size(0)\n",
        "        correct += (predicted == labels).sum().item()\n",
        "\n",
        "    print('Accuracy of the network on the test images: {} %'.format(100 * correct / total))\n",
        "\n",
        "# Save the model checkpoint\n",
        "torch.save(model_2.state_dict(), 'model_2_extra_layer.ckpt')"
      ],
      "metadata": {
        "id": "KSUDHiBCwWM8",
        "outputId": "a41670f6-8258-49b6-90b9-a2559df4f4e1",
        "colab": {
          "base_uri": "https://localhost:8080/"
        }
      },
      "execution_count": 37,
      "outputs": [
        {
          "output_type": "stream",
          "name": "stdout",
          "text": [
            "Accuracy of the network on the test images: 51.53 %\n"
          ]
        }
      ]
    },
    {
      "cell_type": "markdown",
      "source": [
        "## Задание 3\n",
        "\n",
        "Теперь обучите полносвязную сеть с несколькими линейными слоями с числом нейронов: 1024, 512, 256, 128, 64 соответственно + функцией ReLU на выходе из каждого внутреннего слоя. В ответе - accuracy, округленная до целого числа.\n",
        "\n"
      ],
      "metadata": {
        "id": "czJtOlMW05St"
      }
    },
    {
      "cell_type": "code",
      "source": [
        "# Fully connected neural network\n",
        "class NeuralNet_3(nn.Module):\n",
        "    def __init__(self, input_size, num_classes):\n",
        "        super(NeuralNet_3, self).__init__()\n",
        "        self.fc1 = nn.Linear(input_size, 1024)\n",
        "        self.relu1 = nn.ReLU()\n",
        "        self.fc2 = nn.Linear(1024, 512)\n",
        "        self.relu2 = nn.ReLU()\n",
        "        self.fc3 = nn.Linear(512, 256)\n",
        "        self.relu3 = nn.ReLU()\n",
        "        self.fc4 = nn.Linear(256, 128)\n",
        "        self.relu4 = nn.ReLU()\n",
        "        self.fc5 = nn.Linear(128, 64)\n",
        "        self.relu5 = nn.ReLU()\n",
        "        self.fc_last = nn.Linear(64, num_classes)\n",
        "#        self.apply(self._init_weights)\n",
        "\n",
        "    def _init_weights(self, module): # метод для различных \"умных\" инициализаций весов\n",
        "        if isinstance(module, nn.Linear):\n",
        "            module.weight.data.normal_(mean=0.0, std=0.15)\n",
        "            if module.bias is not None:\n",
        "                module.bias.data.zero_()\n",
        "\n",
        "    def forward(self, x):\n",
        "        out = self.fc1(x)\n",
        "        out = self.relu1(out)\n",
        "        out = self.fc2(out)\n",
        "        out = self.relu2(out)\n",
        "        out = self.fc3(out)\n",
        "        out = self.relu3(out)\n",
        "        out = self.fc4(out)\n",
        "        out = self.relu4(out)\n",
        "        out = self.fc5(out)\n",
        "        out = self.relu5(out)\n",
        "        out = self.fc_last(out)\n",
        "        return out\n",
        "\n",
        "model_3 = NeuralNet_3(input_size, num_classes).to(device)"
      ],
      "metadata": {
        "id": "osW5czT63uMW"
      },
      "execution_count": 38,
      "outputs": []
    },
    {
      "cell_type": "code",
      "source": [
        "model_3"
      ],
      "metadata": {
        "id": "36OdAIfW4mgw",
        "outputId": "96c1b6c6-a605-4d2b-8e6e-38ff47b92847",
        "colab": {
          "base_uri": "https://localhost:8080/"
        }
      },
      "execution_count": 39,
      "outputs": [
        {
          "output_type": "execute_result",
          "data": {
            "text/plain": [
              "NeuralNet_3(\n",
              "  (fc1): Linear(in_features=3072, out_features=1024, bias=True)\n",
              "  (relu1): ReLU()\n",
              "  (fc2): Linear(in_features=1024, out_features=512, bias=True)\n",
              "  (relu2): ReLU()\n",
              "  (fc3): Linear(in_features=512, out_features=256, bias=True)\n",
              "  (relu3): ReLU()\n",
              "  (fc4): Linear(in_features=256, out_features=128, bias=True)\n",
              "  (relu4): ReLU()\n",
              "  (fc5): Linear(in_features=128, out_features=64, bias=True)\n",
              "  (relu5): ReLU()\n",
              "  (fc_last): Linear(in_features=64, out_features=10, bias=True)\n",
              ")"
            ]
          },
          "metadata": {},
          "execution_count": 39
        }
      ]
    },
    {
      "cell_type": "code",
      "source": [
        "# Loss and optimizer\n",
        "criterion = nn.CrossEntropyLoss()\n",
        "optimizer = torch.optim.Adam(model_3.parameters(), lr=learning_rate)"
      ],
      "metadata": {
        "id": "YRUhFsZKCCHu"
      },
      "execution_count": 40,
      "outputs": []
    },
    {
      "cell_type": "code",
      "source": [
        "np.random.seed(0)\n",
        "random.seed(0)\n",
        "torch.manual_seed(0)\n",
        "\n",
        "loss_log = []\n",
        "\n",
        "# Train the model\n",
        "total_step = len(train_loader)\n",
        "for epoch in range(num_epochs):\n",
        "    for i, (images, labels) in enumerate(train_loader):\n",
        "        # Move tensors to the configured device\n",
        "        images = images.reshape(-1, 32*32*3).to(device)\n",
        "        labels = labels.to(device)\n",
        "\n",
        "        # Forward pass\n",
        "        outputs = model_3(images)\n",
        "        loss = criterion(outputs, labels)\n",
        "\n",
        "        # Backprpagation and optimization\n",
        "        optimizer.zero_grad()\n",
        "        loss.backward()\n",
        "        optimizer.step()\n",
        "\n",
        "        if (i+1) % 100 == 0:\n",
        "            print ('Epoch [{}/{}], Step [{}/{}], Loss: {:.4f}'\n",
        "                   .format(epoch+1, num_epochs, i+1, total_step, loss.item()))\n",
        "            loss_log.append(loss.data.cpu().numpy())"
      ],
      "metadata": {
        "id": "2JP28mYF4pZQ",
        "outputId": "5f22382d-f72b-4097-8edb-e17312340142",
        "colab": {
          "base_uri": "https://localhost:8080/"
        }
      },
      "execution_count": 41,
      "outputs": [
        {
          "output_type": "stream",
          "name": "stdout",
          "text": [
            "Epoch [1/10], Step [100/1563], Loss: 2.3296\n",
            "Epoch [1/10], Step [200/1563], Loss: 1.9713\n",
            "Epoch [1/10], Step [300/1563], Loss: 1.7932\n",
            "Epoch [1/10], Step [400/1563], Loss: 1.6880\n",
            "Epoch [1/10], Step [500/1563], Loss: 1.7460\n",
            "Epoch [1/10], Step [600/1563], Loss: 1.7006\n",
            "Epoch [1/10], Step [700/1563], Loss: 1.4427\n",
            "Epoch [1/10], Step [800/1563], Loss: 1.7598\n",
            "Epoch [1/10], Step [900/1563], Loss: 1.5572\n",
            "Epoch [1/10], Step [1000/1563], Loss: 1.5407\n",
            "Epoch [1/10], Step [1100/1563], Loss: 1.8749\n",
            "Epoch [1/10], Step [1200/1563], Loss: 1.7445\n",
            "Epoch [1/10], Step [1300/1563], Loss: 1.6308\n",
            "Epoch [1/10], Step [1400/1563], Loss: 1.4811\n",
            "Epoch [1/10], Step [1500/1563], Loss: 1.3879\n",
            "Epoch [2/10], Step [100/1563], Loss: 1.5072\n",
            "Epoch [2/10], Step [200/1563], Loss: 1.4394\n",
            "Epoch [2/10], Step [300/1563], Loss: 1.3425\n",
            "Epoch [2/10], Step [400/1563], Loss: 1.9214\n",
            "Epoch [2/10], Step [500/1563], Loss: 1.4546\n",
            "Epoch [2/10], Step [600/1563], Loss: 1.5362\n",
            "Epoch [2/10], Step [700/1563], Loss: 1.4518\n",
            "Epoch [2/10], Step [800/1563], Loss: 1.5996\n",
            "Epoch [2/10], Step [900/1563], Loss: 1.4588\n",
            "Epoch [2/10], Step [1000/1563], Loss: 1.3233\n",
            "Epoch [2/10], Step [1100/1563], Loss: 1.4600\n",
            "Epoch [2/10], Step [1200/1563], Loss: 1.4630\n",
            "Epoch [2/10], Step [1300/1563], Loss: 1.7736\n",
            "Epoch [2/10], Step [1400/1563], Loss: 1.5245\n",
            "Epoch [2/10], Step [1500/1563], Loss: 1.4185\n",
            "Epoch [3/10], Step [100/1563], Loss: 1.4730\n",
            "Epoch [3/10], Step [200/1563], Loss: 1.6293\n",
            "Epoch [3/10], Step [300/1563], Loss: 1.2669\n",
            "Epoch [3/10], Step [400/1563], Loss: 1.3311\n",
            "Epoch [3/10], Step [500/1563], Loss: 1.0677\n",
            "Epoch [3/10], Step [600/1563], Loss: 1.6916\n",
            "Epoch [3/10], Step [700/1563], Loss: 1.0233\n",
            "Epoch [3/10], Step [800/1563], Loss: 1.5415\n",
            "Epoch [3/10], Step [900/1563], Loss: 1.0800\n",
            "Epoch [3/10], Step [1000/1563], Loss: 1.4588\n",
            "Epoch [3/10], Step [1100/1563], Loss: 1.5349\n",
            "Epoch [3/10], Step [1200/1563], Loss: 1.1690\n",
            "Epoch [3/10], Step [1300/1563], Loss: 1.2375\n",
            "Epoch [3/10], Step [1400/1563], Loss: 1.2432\n",
            "Epoch [3/10], Step [1500/1563], Loss: 1.3143\n",
            "Epoch [4/10], Step [100/1563], Loss: 1.4231\n",
            "Epoch [4/10], Step [200/1563], Loss: 1.4190\n",
            "Epoch [4/10], Step [300/1563], Loss: 1.6834\n",
            "Epoch [4/10], Step [400/1563], Loss: 1.2884\n",
            "Epoch [4/10], Step [500/1563], Loss: 1.1789\n",
            "Epoch [4/10], Step [600/1563], Loss: 1.1584\n",
            "Epoch [4/10], Step [700/1563], Loss: 1.4334\n",
            "Epoch [4/10], Step [800/1563], Loss: 1.4086\n",
            "Epoch [4/10], Step [900/1563], Loss: 1.0837\n",
            "Epoch [4/10], Step [1000/1563], Loss: 0.8664\n",
            "Epoch [4/10], Step [1100/1563], Loss: 1.1742\n",
            "Epoch [4/10], Step [1200/1563], Loss: 1.0567\n",
            "Epoch [4/10], Step [1300/1563], Loss: 1.1071\n",
            "Epoch [4/10], Step [1400/1563], Loss: 1.5612\n",
            "Epoch [4/10], Step [1500/1563], Loss: 0.9438\n",
            "Epoch [5/10], Step [100/1563], Loss: 1.4628\n",
            "Epoch [5/10], Step [200/1563], Loss: 0.7992\n",
            "Epoch [5/10], Step [300/1563], Loss: 1.2024\n",
            "Epoch [5/10], Step [400/1563], Loss: 1.1380\n",
            "Epoch [5/10], Step [500/1563], Loss: 1.0184\n",
            "Epoch [5/10], Step [600/1563], Loss: 0.9230\n",
            "Epoch [5/10], Step [700/1563], Loss: 1.1831\n",
            "Epoch [5/10], Step [800/1563], Loss: 1.0209\n",
            "Epoch [5/10], Step [900/1563], Loss: 1.4988\n",
            "Epoch [5/10], Step [1000/1563], Loss: 1.0280\n",
            "Epoch [5/10], Step [1100/1563], Loss: 1.6471\n",
            "Epoch [5/10], Step [1200/1563], Loss: 1.1214\n",
            "Epoch [5/10], Step [1300/1563], Loss: 0.9243\n",
            "Epoch [5/10], Step [1400/1563], Loss: 1.1860\n",
            "Epoch [5/10], Step [1500/1563], Loss: 0.9938\n",
            "Epoch [6/10], Step [100/1563], Loss: 1.2424\n",
            "Epoch [6/10], Step [200/1563], Loss: 1.1061\n",
            "Epoch [6/10], Step [300/1563], Loss: 0.8249\n",
            "Epoch [6/10], Step [400/1563], Loss: 1.0077\n",
            "Epoch [6/10], Step [500/1563], Loss: 1.0309\n",
            "Epoch [6/10], Step [600/1563], Loss: 1.1274\n",
            "Epoch [6/10], Step [700/1563], Loss: 1.0828\n",
            "Epoch [6/10], Step [800/1563], Loss: 1.1080\n",
            "Epoch [6/10], Step [900/1563], Loss: 1.1811\n",
            "Epoch [6/10], Step [1000/1563], Loss: 1.1846\n",
            "Epoch [6/10], Step [1100/1563], Loss: 1.1538\n",
            "Epoch [6/10], Step [1200/1563], Loss: 1.1300\n",
            "Epoch [6/10], Step [1300/1563], Loss: 1.2044\n",
            "Epoch [6/10], Step [1400/1563], Loss: 1.2201\n",
            "Epoch [6/10], Step [1500/1563], Loss: 1.1971\n",
            "Epoch [7/10], Step [100/1563], Loss: 0.9865\n",
            "Epoch [7/10], Step [200/1563], Loss: 0.9421\n",
            "Epoch [7/10], Step [300/1563], Loss: 1.1268\n",
            "Epoch [7/10], Step [400/1563], Loss: 0.9913\n",
            "Epoch [7/10], Step [500/1563], Loss: 1.3176\n",
            "Epoch [7/10], Step [600/1563], Loss: 1.3758\n",
            "Epoch [7/10], Step [700/1563], Loss: 1.0609\n",
            "Epoch [7/10], Step [800/1563], Loss: 1.0024\n",
            "Epoch [7/10], Step [900/1563], Loss: 0.9684\n",
            "Epoch [7/10], Step [1000/1563], Loss: 1.0129\n",
            "Epoch [7/10], Step [1100/1563], Loss: 1.2479\n",
            "Epoch [7/10], Step [1200/1563], Loss: 1.0414\n",
            "Epoch [7/10], Step [1300/1563], Loss: 1.0881\n",
            "Epoch [7/10], Step [1400/1563], Loss: 0.9145\n",
            "Epoch [7/10], Step [1500/1563], Loss: 0.9456\n",
            "Epoch [8/10], Step [100/1563], Loss: 1.0266\n",
            "Epoch [8/10], Step [200/1563], Loss: 0.9791\n",
            "Epoch [8/10], Step [300/1563], Loss: 0.6779\n",
            "Epoch [8/10], Step [400/1563], Loss: 0.9606\n",
            "Epoch [8/10], Step [500/1563], Loss: 0.6244\n",
            "Epoch [8/10], Step [600/1563], Loss: 0.8800\n",
            "Epoch [8/10], Step [700/1563], Loss: 1.2820\n",
            "Epoch [8/10], Step [800/1563], Loss: 1.1341\n",
            "Epoch [8/10], Step [900/1563], Loss: 0.8842\n",
            "Epoch [8/10], Step [1000/1563], Loss: 1.1276\n",
            "Epoch [8/10], Step [1100/1563], Loss: 1.0820\n",
            "Epoch [8/10], Step [1200/1563], Loss: 1.2131\n",
            "Epoch [8/10], Step [1300/1563], Loss: 1.2873\n",
            "Epoch [8/10], Step [1400/1563], Loss: 0.8443\n",
            "Epoch [8/10], Step [1500/1563], Loss: 0.7603\n",
            "Epoch [9/10], Step [100/1563], Loss: 0.5489\n",
            "Epoch [9/10], Step [200/1563], Loss: 0.9652\n",
            "Epoch [9/10], Step [300/1563], Loss: 0.8851\n",
            "Epoch [9/10], Step [400/1563], Loss: 0.6976\n",
            "Epoch [9/10], Step [500/1563], Loss: 1.2445\n",
            "Epoch [9/10], Step [600/1563], Loss: 1.0403\n",
            "Epoch [9/10], Step [700/1563], Loss: 0.9907\n",
            "Epoch [9/10], Step [800/1563], Loss: 0.9598\n",
            "Epoch [9/10], Step [900/1563], Loss: 0.8911\n",
            "Epoch [9/10], Step [1000/1563], Loss: 0.7572\n",
            "Epoch [9/10], Step [1100/1563], Loss: 1.0539\n",
            "Epoch [9/10], Step [1200/1563], Loss: 1.2829\n",
            "Epoch [9/10], Step [1300/1563], Loss: 1.1131\n",
            "Epoch [9/10], Step [1400/1563], Loss: 1.0660\n",
            "Epoch [9/10], Step [1500/1563], Loss: 0.8714\n",
            "Epoch [10/10], Step [100/1563], Loss: 0.7429\n",
            "Epoch [10/10], Step [200/1563], Loss: 1.0809\n",
            "Epoch [10/10], Step [300/1563], Loss: 0.8039\n",
            "Epoch [10/10], Step [400/1563], Loss: 0.6378\n",
            "Epoch [10/10], Step [500/1563], Loss: 0.8722\n",
            "Epoch [10/10], Step [600/1563], Loss: 1.0531\n",
            "Epoch [10/10], Step [700/1563], Loss: 1.0333\n",
            "Epoch [10/10], Step [800/1563], Loss: 1.0335\n",
            "Epoch [10/10], Step [900/1563], Loss: 0.8544\n",
            "Epoch [10/10], Step [1000/1563], Loss: 0.6972\n",
            "Epoch [10/10], Step [1100/1563], Loss: 0.9600\n",
            "Epoch [10/10], Step [1200/1563], Loss: 1.1934\n",
            "Epoch [10/10], Step [1300/1563], Loss: 0.5361\n",
            "Epoch [10/10], Step [1400/1563], Loss: 1.0963\n",
            "Epoch [10/10], Step [1500/1563], Loss: 0.6088\n"
          ]
        }
      ]
    },
    {
      "cell_type": "code",
      "source": [
        "np.random.seed(0)\n",
        "random.seed(0)\n",
        "torch.manual_seed(0)\n",
        "\n",
        "# Test the model\n",
        "# In the test phase, don't need to compute gradients (for memory efficiency)\n",
        "with torch.no_grad():\n",
        "    correct = 0\n",
        "    total = 0\n",
        "    for images, labels in test_loader:\n",
        "        images = images.reshape(-1, 32*32*3).to(device)\n",
        "        labels = labels.to(device)\n",
        "        outputs = model_3(images)\n",
        "        _, predicted = torch.max(outputs.data, 1)\n",
        "        total += labels.size(0)\n",
        "        correct += (predicted == labels).sum().item()\n",
        "\n",
        "    print('Accuracy of the network on the test images: {} %'.format(100 * correct / total))\n",
        "\n",
        "# Save the model checkpoint\n",
        "torch.save(model_3.state_dict(), 'model_3_diff_layers.ckpt')"
      ],
      "metadata": {
        "id": "DOh7x88FIoOO",
        "outputId": "6d86181b-7099-47ab-936b-12b30fe29c59",
        "colab": {
          "base_uri": "https://localhost:8080/"
        }
      },
      "execution_count": 42,
      "outputs": [
        {
          "output_type": "stream",
          "name": "stdout",
          "text": [
            "Accuracy of the network on the test images: 53.35 %\n"
          ]
        }
      ]
    },
    {
      "cell_type": "markdown",
      "source": [
        "## Задание 4\n",
        "\n",
        "К архитектуре из предыдущего задания добавьте Dropout(0.2) перед слоями из 1024 и 256 нейронов. Увеличилась ли accuracy по сравнению с предыдущим заданием?\n",
        "\n"
      ],
      "metadata": {
        "id": "n4DUcIONIe76"
      }
    },
    {
      "cell_type": "code",
      "source": [
        "# Fully connected neural network\n",
        "class NeuralNet_4(nn.Module):\n",
        "    def __init__(self, input_size, num_classes):\n",
        "        super(NeuralNet_4, self).__init__()\n",
        "        self.fc1 = nn.Linear(input_size, 1024)\n",
        "        self.relu1 = nn.ReLU()\n",
        "        self.dp1 = nn.Dropout(0.2)\n",
        "        self.fc2 = nn.Linear(1024, 512)\n",
        "        self.relu2 = nn.ReLU()\n",
        "        self.fc3 = nn.Linear(512, 256)\n",
        "        self.relu3 = nn.ReLU()\n",
        "        self.dp2 = nn.Dropout(0.2)\n",
        "        self.fc4 = nn.Linear(256, 128)\n",
        "        self.relu4 = nn.ReLU()\n",
        "        self.fc5 = nn.Linear(128, 64)\n",
        "        self.relu5 = nn.ReLU()\n",
        "        self.fc_last = nn.Linear(64, num_classes)\n",
        "#        self.apply(self._init_weights)\n",
        "\n",
        "    def _init_weights(self, module): # метод для различных \"умных\" инициализаций весов\n",
        "        if isinstance(module, nn.Linear):\n",
        "            module.weight.data.normal_(mean=0.0, std=0.15)\n",
        "            if module.bias is not None:\n",
        "                module.bias.data.zero_()\n",
        "\n",
        "    def forward(self, x):\n",
        "        out = self.fc1(x)\n",
        "        out = self.relu1(out)\n",
        "        out = self.dp1(out)\n",
        "        out = self.fc2(out)\n",
        "        out = self.relu2(out)\n",
        "        out = self.fc3(out)\n",
        "        out = self.relu3(out)\n",
        "        out = self.dp2(out)\n",
        "        out = self.fc4(out)\n",
        "        out = self.relu4(out)\n",
        "        out = self.fc5(out)\n",
        "        out = self.relu5(out)\n",
        "        out = self.fc_last(out)\n",
        "        return out\n",
        "\n",
        "model_4 = NeuralNet_4(input_size, num_classes).to(device)"
      ],
      "metadata": {
        "id": "7N7rL9vvKwiZ"
      },
      "execution_count": 44,
      "outputs": []
    },
    {
      "cell_type": "code",
      "source": [
        "model_4"
      ],
      "metadata": {
        "id": "Iz1Sa60VLenF",
        "outputId": "48d57876-0176-4d50-af5e-615095d7703b",
        "colab": {
          "base_uri": "https://localhost:8080/"
        }
      },
      "execution_count": 45,
      "outputs": [
        {
          "output_type": "execute_result",
          "data": {
            "text/plain": [
              "NeuralNet_4(\n",
              "  (fc1): Linear(in_features=3072, out_features=1024, bias=True)\n",
              "  (relu1): ReLU()\n",
              "  (dp1): Dropout(p=0.2, inplace=False)\n",
              "  (fc2): Linear(in_features=1024, out_features=512, bias=True)\n",
              "  (relu2): ReLU()\n",
              "  (fc3): Linear(in_features=512, out_features=256, bias=True)\n",
              "  (relu3): ReLU()\n",
              "  (dp2): Dropout(p=0.2, inplace=False)\n",
              "  (fc4): Linear(in_features=256, out_features=128, bias=True)\n",
              "  (relu4): ReLU()\n",
              "  (fc5): Linear(in_features=128, out_features=64, bias=True)\n",
              "  (relu5): ReLU()\n",
              "  (fc_last): Linear(in_features=64, out_features=10, bias=True)\n",
              ")"
            ]
          },
          "metadata": {},
          "execution_count": 45
        }
      ]
    },
    {
      "cell_type": "code",
      "source": [
        "# Loss and optimizer\n",
        "criterion = nn.CrossEntropyLoss()\n",
        "optimizer = torch.optim.Adam(model_4.parameters(), lr=learning_rate)"
      ],
      "metadata": {
        "id": "qjeyGQqILi-A"
      },
      "execution_count": 46,
      "outputs": []
    },
    {
      "cell_type": "code",
      "source": [
        "np.random.seed(0)\n",
        "random.seed(0)\n",
        "torch.manual_seed(0)\n",
        "\n",
        "loss_log = []\n",
        "\n",
        "# Train the model\n",
        "total_step = len(train_loader)\n",
        "for epoch in range(num_epochs):\n",
        "    for i, (images, labels) in enumerate(train_loader):\n",
        "        # Move tensors to the configured device\n",
        "        images = images.reshape(-1, 32*32*3).to(device)\n",
        "        labels = labels.to(device)\n",
        "\n",
        "        # Forward pass\n",
        "        outputs = model_4(images)\n",
        "        loss = criterion(outputs, labels)\n",
        "\n",
        "        # Backprpagation and optimization\n",
        "        optimizer.zero_grad()\n",
        "        loss.backward()\n",
        "        optimizer.step()\n",
        "\n",
        "        if (i+1) % 100 == 0:\n",
        "            print ('Epoch [{}/{}], Step [{}/{}], Loss: {:.4f}'\n",
        "                   .format(epoch+1, num_epochs, i+1, total_step, loss.item()))\n",
        "            loss_log.append(loss.data.cpu().numpy())"
      ],
      "metadata": {
        "id": "74GGDthHLoHm",
        "outputId": "355142fb-e249-4fd6-f3df-8452e59eb038",
        "colab": {
          "base_uri": "https://localhost:8080/"
        }
      },
      "execution_count": 47,
      "outputs": [
        {
          "output_type": "stream",
          "name": "stdout",
          "text": [
            "Epoch [1/10], Step [100/1563], Loss: 2.1819\n",
            "Epoch [1/10], Step [200/1563], Loss: 2.2000\n",
            "Epoch [1/10], Step [300/1563], Loss: 1.7951\n",
            "Epoch [1/10], Step [400/1563], Loss: 1.7220\n",
            "Epoch [1/10], Step [500/1563], Loss: 1.8447\n",
            "Epoch [1/10], Step [600/1563], Loss: 1.8877\n",
            "Epoch [1/10], Step [700/1563], Loss: 1.4983\n",
            "Epoch [1/10], Step [800/1563], Loss: 1.7759\n",
            "Epoch [1/10], Step [900/1563], Loss: 1.5206\n",
            "Epoch [1/10], Step [1000/1563], Loss: 1.5457\n",
            "Epoch [1/10], Step [1100/1563], Loss: 1.8365\n",
            "Epoch [1/10], Step [1200/1563], Loss: 1.8503\n",
            "Epoch [1/10], Step [1300/1563], Loss: 1.7546\n",
            "Epoch [1/10], Step [1400/1563], Loss: 1.6282\n",
            "Epoch [1/10], Step [1500/1563], Loss: 1.5057\n",
            "Epoch [2/10], Step [100/1563], Loss: 1.5387\n",
            "Epoch [2/10], Step [200/1563], Loss: 1.3722\n",
            "Epoch [2/10], Step [300/1563], Loss: 1.3421\n",
            "Epoch [2/10], Step [400/1563], Loss: 1.8931\n",
            "Epoch [2/10], Step [500/1563], Loss: 1.6172\n",
            "Epoch [2/10], Step [600/1563], Loss: 1.6632\n",
            "Epoch [2/10], Step [700/1563], Loss: 1.4547\n",
            "Epoch [2/10], Step [800/1563], Loss: 1.8275\n",
            "Epoch [2/10], Step [900/1563], Loss: 1.5894\n",
            "Epoch [2/10], Step [1000/1563], Loss: 1.4554\n",
            "Epoch [2/10], Step [1100/1563], Loss: 1.5406\n",
            "Epoch [2/10], Step [1200/1563], Loss: 1.4291\n",
            "Epoch [2/10], Step [1300/1563], Loss: 1.7378\n",
            "Epoch [2/10], Step [1400/1563], Loss: 1.5580\n",
            "Epoch [2/10], Step [1500/1563], Loss: 1.4755\n",
            "Epoch [3/10], Step [100/1563], Loss: 1.5153\n",
            "Epoch [3/10], Step [200/1563], Loss: 1.6905\n",
            "Epoch [3/10], Step [300/1563], Loss: 1.4334\n",
            "Epoch [3/10], Step [400/1563], Loss: 1.4178\n",
            "Epoch [3/10], Step [500/1563], Loss: 1.2797\n",
            "Epoch [3/10], Step [600/1563], Loss: 1.8604\n",
            "Epoch [3/10], Step [700/1563], Loss: 1.1511\n",
            "Epoch [3/10], Step [800/1563], Loss: 1.8046\n",
            "Epoch [3/10], Step [900/1563], Loss: 1.1634\n",
            "Epoch [3/10], Step [1000/1563], Loss: 1.6214\n",
            "Epoch [3/10], Step [1100/1563], Loss: 1.6369\n",
            "Epoch [3/10], Step [1200/1563], Loss: 1.2108\n",
            "Epoch [3/10], Step [1300/1563], Loss: 1.3554\n",
            "Epoch [3/10], Step [1400/1563], Loss: 1.2172\n",
            "Epoch [3/10], Step [1500/1563], Loss: 1.2886\n",
            "Epoch [4/10], Step [100/1563], Loss: 1.2900\n",
            "Epoch [4/10], Step [200/1563], Loss: 1.6546\n",
            "Epoch [4/10], Step [300/1563], Loss: 1.4987\n",
            "Epoch [4/10], Step [400/1563], Loss: 1.2456\n",
            "Epoch [4/10], Step [500/1563], Loss: 1.3282\n",
            "Epoch [4/10], Step [600/1563], Loss: 1.2526\n",
            "Epoch [4/10], Step [700/1563], Loss: 1.4487\n",
            "Epoch [4/10], Step [800/1563], Loss: 1.6805\n",
            "Epoch [4/10], Step [900/1563], Loss: 1.1836\n",
            "Epoch [4/10], Step [1000/1563], Loss: 0.9739\n",
            "Epoch [4/10], Step [1100/1563], Loss: 1.4263\n",
            "Epoch [4/10], Step [1200/1563], Loss: 1.2172\n",
            "Epoch [4/10], Step [1300/1563], Loss: 1.3255\n",
            "Epoch [4/10], Step [1400/1563], Loss: 1.5118\n",
            "Epoch [4/10], Step [1500/1563], Loss: 1.2103\n",
            "Epoch [5/10], Step [100/1563], Loss: 1.6073\n",
            "Epoch [5/10], Step [200/1563], Loss: 0.8762\n",
            "Epoch [5/10], Step [300/1563], Loss: 1.4053\n",
            "Epoch [5/10], Step [400/1563], Loss: 1.1030\n",
            "Epoch [5/10], Step [500/1563], Loss: 1.0771\n",
            "Epoch [5/10], Step [600/1563], Loss: 1.1360\n",
            "Epoch [5/10], Step [700/1563], Loss: 1.3295\n",
            "Epoch [5/10], Step [800/1563], Loss: 1.2491\n",
            "Epoch [5/10], Step [900/1563], Loss: 1.5873\n",
            "Epoch [5/10], Step [1000/1563], Loss: 1.2399\n",
            "Epoch [5/10], Step [1100/1563], Loss: 1.8537\n",
            "Epoch [5/10], Step [1200/1563], Loss: 1.3437\n",
            "Epoch [5/10], Step [1300/1563], Loss: 1.1994\n",
            "Epoch [5/10], Step [1400/1563], Loss: 1.2787\n",
            "Epoch [5/10], Step [1500/1563], Loss: 1.2523\n",
            "Epoch [6/10], Step [100/1563], Loss: 1.2794\n",
            "Epoch [6/10], Step [200/1563], Loss: 1.4818\n",
            "Epoch [6/10], Step [300/1563], Loss: 1.0820\n",
            "Epoch [6/10], Step [400/1563], Loss: 1.0605\n",
            "Epoch [6/10], Step [500/1563], Loss: 1.1718\n",
            "Epoch [6/10], Step [600/1563], Loss: 1.1693\n",
            "Epoch [6/10], Step [700/1563], Loss: 1.3276\n",
            "Epoch [6/10], Step [800/1563], Loss: 1.2605\n",
            "Epoch [6/10], Step [900/1563], Loss: 1.1694\n",
            "Epoch [6/10], Step [1000/1563], Loss: 1.2650\n",
            "Epoch [6/10], Step [1100/1563], Loss: 1.2107\n",
            "Epoch [6/10], Step [1200/1563], Loss: 1.4075\n",
            "Epoch [6/10], Step [1300/1563], Loss: 1.3105\n",
            "Epoch [6/10], Step [1400/1563], Loss: 1.2089\n",
            "Epoch [6/10], Step [1500/1563], Loss: 1.5228\n",
            "Epoch [7/10], Step [100/1563], Loss: 1.3404\n",
            "Epoch [7/10], Step [200/1563], Loss: 1.3191\n",
            "Epoch [7/10], Step [300/1563], Loss: 1.0598\n",
            "Epoch [7/10], Step [400/1563], Loss: 1.1759\n",
            "Epoch [7/10], Step [500/1563], Loss: 1.2489\n",
            "Epoch [7/10], Step [600/1563], Loss: 1.5640\n",
            "Epoch [7/10], Step [700/1563], Loss: 1.3899\n",
            "Epoch [7/10], Step [800/1563], Loss: 1.0898\n",
            "Epoch [7/10], Step [900/1563], Loss: 0.9778\n",
            "Epoch [7/10], Step [1000/1563], Loss: 1.2625\n",
            "Epoch [7/10], Step [1100/1563], Loss: 1.3881\n",
            "Epoch [7/10], Step [1200/1563], Loss: 1.0484\n",
            "Epoch [7/10], Step [1300/1563], Loss: 1.1506\n",
            "Epoch [7/10], Step [1400/1563], Loss: 1.1306\n",
            "Epoch [7/10], Step [1500/1563], Loss: 1.1624\n",
            "Epoch [8/10], Step [100/1563], Loss: 1.1436\n",
            "Epoch [8/10], Step [200/1563], Loss: 1.1184\n",
            "Epoch [8/10], Step [300/1563], Loss: 0.9557\n",
            "Epoch [8/10], Step [400/1563], Loss: 1.1302\n",
            "Epoch [8/10], Step [500/1563], Loss: 0.8376\n",
            "Epoch [8/10], Step [600/1563], Loss: 1.0814\n",
            "Epoch [8/10], Step [700/1563], Loss: 1.6291\n",
            "Epoch [8/10], Step [800/1563], Loss: 1.1103\n",
            "Epoch [8/10], Step [900/1563], Loss: 1.1458\n",
            "Epoch [8/10], Step [1000/1563], Loss: 1.2777\n",
            "Epoch [8/10], Step [1100/1563], Loss: 1.3102\n",
            "Epoch [8/10], Step [1200/1563], Loss: 1.2662\n",
            "Epoch [8/10], Step [1300/1563], Loss: 1.4222\n",
            "Epoch [8/10], Step [1400/1563], Loss: 1.0880\n",
            "Epoch [8/10], Step [1500/1563], Loss: 0.9434\n",
            "Epoch [9/10], Step [100/1563], Loss: 0.7570\n",
            "Epoch [9/10], Step [200/1563], Loss: 1.2344\n",
            "Epoch [9/10], Step [300/1563], Loss: 1.2415\n",
            "Epoch [9/10], Step [400/1563], Loss: 1.1178\n",
            "Epoch [9/10], Step [500/1563], Loss: 1.3274\n",
            "Epoch [9/10], Step [600/1563], Loss: 1.2878\n",
            "Epoch [9/10], Step [700/1563], Loss: 0.8902\n",
            "Epoch [9/10], Step [800/1563], Loss: 1.0629\n",
            "Epoch [9/10], Step [900/1563], Loss: 1.2400\n",
            "Epoch [9/10], Step [1000/1563], Loss: 1.0218\n",
            "Epoch [9/10], Step [1100/1563], Loss: 1.2959\n",
            "Epoch [9/10], Step [1200/1563], Loss: 1.5106\n",
            "Epoch [9/10], Step [1300/1563], Loss: 1.1954\n",
            "Epoch [9/10], Step [1400/1563], Loss: 1.1410\n",
            "Epoch [9/10], Step [1500/1563], Loss: 1.1335\n",
            "Epoch [10/10], Step [100/1563], Loss: 1.2593\n",
            "Epoch [10/10], Step [200/1563], Loss: 1.1805\n",
            "Epoch [10/10], Step [300/1563], Loss: 0.9834\n",
            "Epoch [10/10], Step [400/1563], Loss: 0.9477\n",
            "Epoch [10/10], Step [500/1563], Loss: 1.0298\n",
            "Epoch [10/10], Step [600/1563], Loss: 1.3689\n",
            "Epoch [10/10], Step [700/1563], Loss: 1.3579\n",
            "Epoch [10/10], Step [800/1563], Loss: 1.3742\n",
            "Epoch [10/10], Step [900/1563], Loss: 1.2151\n",
            "Epoch [10/10], Step [1000/1563], Loss: 0.9228\n",
            "Epoch [10/10], Step [1100/1563], Loss: 1.1122\n",
            "Epoch [10/10], Step [1200/1563], Loss: 1.5428\n",
            "Epoch [10/10], Step [1300/1563], Loss: 0.9321\n",
            "Epoch [10/10], Step [1400/1563], Loss: 1.1837\n",
            "Epoch [10/10], Step [1500/1563], Loss: 0.9952\n"
          ]
        }
      ]
    },
    {
      "cell_type": "code",
      "source": [
        "np.random.seed(0)\n",
        "random.seed(0)\n",
        "torch.manual_seed(0)\n",
        "\n",
        "# Test the model\n",
        "# In the test phase, don't need to compute gradients (for memory efficiency)\n",
        "with torch.no_grad():\n",
        "    correct = 0\n",
        "    total = 0\n",
        "    for images, labels in test_loader:\n",
        "        images = images.reshape(-1, 32*32*3).to(device)\n",
        "        labels = labels.to(device)\n",
        "        outputs = model_4(images)\n",
        "        _, predicted = torch.max(outputs.data, 1)\n",
        "        total += labels.size(0)\n",
        "        correct += (predicted == labels).sum().item()\n",
        "\n",
        "    print('Accuracy of the network on the test images: {} %'.format(100 * correct / total))\n",
        "\n",
        "# Save the model checkpoint\n",
        "torch.save(model_4.state_dict(), 'model_4_drop.ckpt')"
      ],
      "metadata": {
        "id": "I2W7egC_NAYG",
        "outputId": "0a85aa49-0733-477b-8c1a-1e49ca0b9ae5",
        "colab": {
          "base_uri": "https://localhost:8080/"
        }
      },
      "execution_count": 48,
      "outputs": [
        {
          "output_type": "stream",
          "name": "stdout",
          "text": [
            "Accuracy of the network on the test images: 51.47 %\n"
          ]
        }
      ]
    },
    {
      "cell_type": "markdown",
      "source": [
        "## Задание 5\n",
        "\n",
        "Уберите Dropout, но добавьте BatchNorm перед входом в те же линейные слои. Увеличилась ли accuracy по сравнению с заданием 3?\n",
        "\n"
      ],
      "metadata": {
        "id": "__0rh1N9LxhC"
      }
    },
    {
      "cell_type": "code",
      "source": [
        "# Fully connected neural network\n",
        "class NeuralNet_5(nn.Module):\n",
        "    def __init__(self, input_size, num_classes):\n",
        "        super(NeuralNet_5, self).__init__()\n",
        "        self.fc1 = nn.Linear(input_size, 1024)\n",
        "        self.relu1 = nn.ReLU()\n",
        "        self.bn1 = nn.BatchNorm1d(1024)\n",
        "        self.fc2 = nn.Linear(1024, 512)\n",
        "        self.relu2 = nn.ReLU()\n",
        "        self.fc3 = nn.Linear(512, 256)\n",
        "        self.relu3 = nn.ReLU()\n",
        "        self.bn2 = nn.BatchNorm1d(256)\n",
        "        self.fc4 = nn.Linear(256, 128)\n",
        "        self.relu4 = nn.ReLU()\n",
        "        self.fc5 = nn.Linear(128, 64)\n",
        "        self.relu5 = nn.ReLU()\n",
        "        self.fc_last = nn.Linear(64, num_classes)\n",
        "#        self.apply(self._init_weights)\n",
        "\n",
        "    def _init_weights(self, module): # метод для различных \"умных\" инициализаций весов\n",
        "        if isinstance(module, nn.Linear):\n",
        "            module.weight.data.normal_(mean=0.0, std=0.15)\n",
        "            if module.bias is not None:\n",
        "                module.bias.data.zero_()\n",
        "\n",
        "    def forward(self, x):\n",
        "        out = self.fc1(x)\n",
        "        out = self.relu1(out)\n",
        "        out = self.bn1(out)\n",
        "        out = self.fc2(out)\n",
        "        out = self.relu2(out)\n",
        "        out = self.fc3(out)\n",
        "        out = self.relu3(out)\n",
        "        out = self.bn2(out)\n",
        "        out = self.fc4(out)\n",
        "        out = self.relu4(out)\n",
        "        out = self.fc5(out)\n",
        "        out = self.relu5(out)\n",
        "        out = self.fc_last(out)\n",
        "        return out\n",
        "\n",
        "model_5 = NeuralNet_5(input_size, num_classes).to(device)"
      ],
      "metadata": {
        "id": "ruWL65OXNRzJ"
      },
      "execution_count": 71,
      "outputs": []
    },
    {
      "cell_type": "code",
      "source": [
        "model_5"
      ],
      "metadata": {
        "id": "Jz8Co4J6NtMO",
        "outputId": "1d98dbfe-90ac-48ca-f8d9-e1f4cb115a2a",
        "colab": {
          "base_uri": "https://localhost:8080/"
        }
      },
      "execution_count": 72,
      "outputs": [
        {
          "output_type": "execute_result",
          "data": {
            "text/plain": [
              "NeuralNet_5(\n",
              "  (fc1): Linear(in_features=3072, out_features=1024, bias=True)\n",
              "  (relu1): ReLU()\n",
              "  (bn1): BatchNorm1d(1024, eps=1e-05, momentum=0.1, affine=True, track_running_stats=True)\n",
              "  (fc2): Linear(in_features=1024, out_features=512, bias=True)\n",
              "  (relu2): ReLU()\n",
              "  (fc3): Linear(in_features=512, out_features=256, bias=True)\n",
              "  (relu3): ReLU()\n",
              "  (bn2): BatchNorm1d(256, eps=1e-05, momentum=0.1, affine=True, track_running_stats=True)\n",
              "  (fc4): Linear(in_features=256, out_features=128, bias=True)\n",
              "  (relu4): ReLU()\n",
              "  (fc5): Linear(in_features=128, out_features=64, bias=True)\n",
              "  (relu5): ReLU()\n",
              "  (fc_last): Linear(in_features=64, out_features=10, bias=True)\n",
              ")"
            ]
          },
          "metadata": {},
          "execution_count": 72
        }
      ]
    },
    {
      "cell_type": "code",
      "source": [
        "# Loss and optimizer\n",
        "criterion = nn.CrossEntropyLoss()\n",
        "optimizer = torch.optim.Adam(model_5.parameters(), lr=learning_rate)"
      ],
      "metadata": {
        "id": "SsYE6-uqNyYg"
      },
      "execution_count": 73,
      "outputs": []
    },
    {
      "cell_type": "code",
      "source": [
        "np.random.seed(0)\n",
        "random.seed(0)\n",
        "torch.manual_seed(0)\n",
        "\n",
        "loss_log = []\n",
        "\n",
        "# Train the model\n",
        "total_step = len(train_loader)\n",
        "for epoch in range(num_epochs):\n",
        "    for i, (images, labels) in enumerate(train_loader):\n",
        "        # Move tensors to the configured device\n",
        "        images = images.reshape(-1, 32*32*3).to(device)\n",
        "        labels = labels.to(device)\n",
        "\n",
        "        # Forward pass\n",
        "        outputs = model_5(images)\n",
        "        loss = criterion(outputs, labels)\n",
        "\n",
        "        # Backprpagation and optimization\n",
        "        optimizer.zero_grad()\n",
        "        loss.backward()\n",
        "        optimizer.step()\n",
        "\n",
        "        if (i+1) % 100 == 0:\n",
        "            print ('Epoch [{}/{}], Step [{}/{}], Loss: {:.4f}'\n",
        "                   .format(epoch+1, num_epochs, i+1, total_step, loss.item()))\n",
        "            loss_log.append(loss.data.cpu().numpy())"
      ],
      "metadata": {
        "id": "oO7KgJokN36S",
        "outputId": "749c0dd7-b8ab-4fb3-9091-b344c13051c6",
        "colab": {
          "base_uri": "https://localhost:8080/"
        }
      },
      "execution_count": 74,
      "outputs": [
        {
          "output_type": "stream",
          "name": "stdout",
          "text": [
            "Epoch [1/10], Step [100/1563], Loss: 2.3554\n",
            "Epoch [1/10], Step [200/1563], Loss: 1.9402\n",
            "Epoch [1/10], Step [300/1563], Loss: 1.7799\n",
            "Epoch [1/10], Step [400/1563], Loss: 1.8867\n",
            "Epoch [1/10], Step [500/1563], Loss: 1.8736\n",
            "Epoch [1/10], Step [600/1563], Loss: 1.8231\n",
            "Epoch [1/10], Step [700/1563], Loss: 1.5780\n",
            "Epoch [1/10], Step [800/1563], Loss: 1.8574\n",
            "Epoch [1/10], Step [900/1563], Loss: 1.5460\n",
            "Epoch [1/10], Step [1000/1563], Loss: 1.5374\n",
            "Epoch [1/10], Step [1100/1563], Loss: 1.8431\n",
            "Epoch [1/10], Step [1200/1563], Loss: 1.7315\n",
            "Epoch [1/10], Step [1300/1563], Loss: 1.6013\n",
            "Epoch [1/10], Step [1400/1563], Loss: 1.5659\n",
            "Epoch [1/10], Step [1500/1563], Loss: 1.4564\n",
            "Epoch [2/10], Step [100/1563], Loss: 1.5531\n",
            "Epoch [2/10], Step [200/1563], Loss: 1.4152\n",
            "Epoch [2/10], Step [300/1563], Loss: 1.6362\n",
            "Epoch [2/10], Step [400/1563], Loss: 1.6650\n",
            "Epoch [2/10], Step [500/1563], Loss: 1.4063\n",
            "Epoch [2/10], Step [600/1563], Loss: 1.6981\n",
            "Epoch [2/10], Step [700/1563], Loss: 1.4597\n",
            "Epoch [2/10], Step [800/1563], Loss: 1.6384\n",
            "Epoch [2/10], Step [900/1563], Loss: 1.3708\n",
            "Epoch [2/10], Step [1000/1563], Loss: 1.2218\n",
            "Epoch [2/10], Step [1100/1563], Loss: 1.3727\n",
            "Epoch [2/10], Step [1200/1563], Loss: 1.5826\n",
            "Epoch [2/10], Step [1300/1563], Loss: 1.6480\n",
            "Epoch [2/10], Step [1400/1563], Loss: 1.4346\n",
            "Epoch [2/10], Step [1500/1563], Loss: 1.4585\n",
            "Epoch [3/10], Step [100/1563], Loss: 1.4714\n",
            "Epoch [3/10], Step [200/1563], Loss: 1.5615\n",
            "Epoch [3/10], Step [300/1563], Loss: 1.3355\n",
            "Epoch [3/10], Step [400/1563], Loss: 1.2194\n",
            "Epoch [3/10], Step [500/1563], Loss: 1.2890\n",
            "Epoch [3/10], Step [600/1563], Loss: 1.6929\n",
            "Epoch [3/10], Step [700/1563], Loss: 1.1758\n",
            "Epoch [3/10], Step [800/1563], Loss: 1.6781\n",
            "Epoch [3/10], Step [900/1563], Loss: 1.3034\n",
            "Epoch [3/10], Step [1000/1563], Loss: 1.3619\n",
            "Epoch [3/10], Step [1100/1563], Loss: 1.5552\n",
            "Epoch [3/10], Step [1200/1563], Loss: 1.3792\n",
            "Epoch [3/10], Step [1300/1563], Loss: 1.0994\n",
            "Epoch [3/10], Step [1400/1563], Loss: 1.2635\n",
            "Epoch [3/10], Step [1500/1563], Loss: 1.2945\n",
            "Epoch [4/10], Step [100/1563], Loss: 1.3150\n",
            "Epoch [4/10], Step [200/1563], Loss: 1.3160\n",
            "Epoch [4/10], Step [300/1563], Loss: 1.5010\n",
            "Epoch [4/10], Step [400/1563], Loss: 1.0452\n",
            "Epoch [4/10], Step [500/1563], Loss: 1.4158\n",
            "Epoch [4/10], Step [600/1563], Loss: 1.1736\n",
            "Epoch [4/10], Step [700/1563], Loss: 1.5124\n",
            "Epoch [4/10], Step [800/1563], Loss: 1.5282\n",
            "Epoch [4/10], Step [900/1563], Loss: 1.2165\n",
            "Epoch [4/10], Step [1000/1563], Loss: 1.1319\n",
            "Epoch [4/10], Step [1100/1563], Loss: 1.1144\n",
            "Epoch [4/10], Step [1200/1563], Loss: 1.0249\n",
            "Epoch [4/10], Step [1300/1563], Loss: 1.2308\n",
            "Epoch [4/10], Step [1400/1563], Loss: 1.5950\n",
            "Epoch [4/10], Step [1500/1563], Loss: 1.0430\n",
            "Epoch [5/10], Step [100/1563], Loss: 1.5138\n",
            "Epoch [5/10], Step [200/1563], Loss: 1.0110\n",
            "Epoch [5/10], Step [300/1563], Loss: 1.1583\n",
            "Epoch [5/10], Step [400/1563], Loss: 0.9090\n",
            "Epoch [5/10], Step [500/1563], Loss: 1.1399\n",
            "Epoch [5/10], Step [600/1563], Loss: 0.9842\n",
            "Epoch [5/10], Step [700/1563], Loss: 1.5255\n",
            "Epoch [5/10], Step [800/1563], Loss: 1.1159\n",
            "Epoch [5/10], Step [900/1563], Loss: 1.6604\n",
            "Epoch [5/10], Step [1000/1563], Loss: 1.1578\n",
            "Epoch [5/10], Step [1100/1563], Loss: 1.6989\n",
            "Epoch [5/10], Step [1200/1563], Loss: 1.2516\n",
            "Epoch [5/10], Step [1300/1563], Loss: 1.1051\n",
            "Epoch [5/10], Step [1400/1563], Loss: 1.1232\n",
            "Epoch [5/10], Step [1500/1563], Loss: 1.2070\n",
            "Epoch [6/10], Step [100/1563], Loss: 1.2622\n",
            "Epoch [6/10], Step [200/1563], Loss: 1.0865\n",
            "Epoch [6/10], Step [300/1563], Loss: 0.7473\n",
            "Epoch [6/10], Step [400/1563], Loss: 1.0107\n",
            "Epoch [6/10], Step [500/1563], Loss: 1.1163\n",
            "Epoch [6/10], Step [600/1563], Loss: 1.3851\n",
            "Epoch [6/10], Step [700/1563], Loss: 1.2010\n",
            "Epoch [6/10], Step [800/1563], Loss: 1.2950\n",
            "Epoch [6/10], Step [900/1563], Loss: 1.2475\n",
            "Epoch [6/10], Step [1000/1563], Loss: 1.1938\n",
            "Epoch [6/10], Step [1100/1563], Loss: 1.3523\n",
            "Epoch [6/10], Step [1200/1563], Loss: 1.5403\n",
            "Epoch [6/10], Step [1300/1563], Loss: 1.1714\n",
            "Epoch [6/10], Step [1400/1563], Loss: 1.3123\n",
            "Epoch [6/10], Step [1500/1563], Loss: 1.3703\n",
            "Epoch [7/10], Step [100/1563], Loss: 1.1337\n",
            "Epoch [7/10], Step [200/1563], Loss: 1.2080\n",
            "Epoch [7/10], Step [300/1563], Loss: 1.1321\n",
            "Epoch [7/10], Step [400/1563], Loss: 1.1253\n",
            "Epoch [7/10], Step [500/1563], Loss: 1.1066\n",
            "Epoch [7/10], Step [600/1563], Loss: 1.2210\n",
            "Epoch [7/10], Step [700/1563], Loss: 1.1672\n",
            "Epoch [7/10], Step [800/1563], Loss: 1.0902\n",
            "Epoch [7/10], Step [900/1563], Loss: 1.1261\n",
            "Epoch [7/10], Step [1000/1563], Loss: 1.2050\n",
            "Epoch [7/10], Step [1100/1563], Loss: 1.1842\n",
            "Epoch [7/10], Step [1200/1563], Loss: 1.0718\n",
            "Epoch [7/10], Step [1300/1563], Loss: 1.3924\n",
            "Epoch [7/10], Step [1400/1563], Loss: 1.0691\n",
            "Epoch [7/10], Step [1500/1563], Loss: 1.1961\n",
            "Epoch [8/10], Step [100/1563], Loss: 1.0384\n",
            "Epoch [8/10], Step [200/1563], Loss: 1.1008\n",
            "Epoch [8/10], Step [300/1563], Loss: 1.1146\n",
            "Epoch [8/10], Step [400/1563], Loss: 0.9107\n",
            "Epoch [8/10], Step [500/1563], Loss: 0.8782\n",
            "Epoch [8/10], Step [600/1563], Loss: 1.1453\n",
            "Epoch [8/10], Step [700/1563], Loss: 1.2051\n",
            "Epoch [8/10], Step [800/1563], Loss: 1.0766\n",
            "Epoch [8/10], Step [900/1563], Loss: 1.2060\n",
            "Epoch [8/10], Step [1000/1563], Loss: 1.1261\n",
            "Epoch [8/10], Step [1100/1563], Loss: 1.3386\n",
            "Epoch [8/10], Step [1200/1563], Loss: 1.1477\n",
            "Epoch [8/10], Step [1300/1563], Loss: 1.2856\n",
            "Epoch [8/10], Step [1400/1563], Loss: 0.8703\n",
            "Epoch [8/10], Step [1500/1563], Loss: 0.7557\n",
            "Epoch [9/10], Step [100/1563], Loss: 0.9040\n",
            "Epoch [9/10], Step [200/1563], Loss: 1.0071\n",
            "Epoch [9/10], Step [300/1563], Loss: 0.8864\n",
            "Epoch [9/10], Step [400/1563], Loss: 0.9013\n",
            "Epoch [9/10], Step [500/1563], Loss: 1.3852\n",
            "Epoch [9/10], Step [600/1563], Loss: 1.0041\n",
            "Epoch [9/10], Step [700/1563], Loss: 0.9787\n",
            "Epoch [9/10], Step [800/1563], Loss: 0.9304\n",
            "Epoch [9/10], Step [900/1563], Loss: 0.9227\n",
            "Epoch [9/10], Step [1000/1563], Loss: 0.8364\n",
            "Epoch [9/10], Step [1100/1563], Loss: 1.0211\n",
            "Epoch [9/10], Step [1200/1563], Loss: 1.5609\n",
            "Epoch [9/10], Step [1300/1563], Loss: 1.0638\n",
            "Epoch [9/10], Step [1400/1563], Loss: 1.0858\n",
            "Epoch [9/10], Step [1500/1563], Loss: 0.9254\n",
            "Epoch [10/10], Step [100/1563], Loss: 0.9189\n",
            "Epoch [10/10], Step [200/1563], Loss: 1.3022\n",
            "Epoch [10/10], Step [300/1563], Loss: 0.9381\n",
            "Epoch [10/10], Step [400/1563], Loss: 0.8008\n",
            "Epoch [10/10], Step [500/1563], Loss: 1.1233\n",
            "Epoch [10/10], Step [600/1563], Loss: 0.8744\n",
            "Epoch [10/10], Step [700/1563], Loss: 1.3758\n",
            "Epoch [10/10], Step [800/1563], Loss: 0.8714\n",
            "Epoch [10/10], Step [900/1563], Loss: 0.9344\n",
            "Epoch [10/10], Step [1000/1563], Loss: 0.7661\n",
            "Epoch [10/10], Step [1100/1563], Loss: 1.1944\n",
            "Epoch [10/10], Step [1200/1563], Loss: 1.4397\n",
            "Epoch [10/10], Step [1300/1563], Loss: 0.8081\n",
            "Epoch [10/10], Step [1400/1563], Loss: 1.0963\n",
            "Epoch [10/10], Step [1500/1563], Loss: 0.7536\n"
          ]
        }
      ]
    },
    {
      "cell_type": "code",
      "source": [
        "np.random.seed(0)\n",
        "random.seed(0)\n",
        "torch.manual_seed(0)\n",
        "\n",
        "# Test the model\n",
        "# In the test phase, don't need to compute gradients (for memory efficiency)\n",
        "with torch.no_grad():\n",
        "    correct = 0\n",
        "    total = 0\n",
        "    for images, labels in test_loader:\n",
        "        images = images.reshape(-1, 32*32*3).to(device)\n",
        "        labels = labels.to(device)\n",
        "        outputs = model_5(images)\n",
        "        _, predicted = torch.max(outputs.data, 1)\n",
        "        total += labels.size(0)\n",
        "        correct += (predicted == labels).sum().item()\n",
        "\n",
        "    print('Accuracy of the network on the test images: {} %'.format(100 * correct / total))\n",
        "\n",
        "# Save the model checkpoint\n",
        "torch.save(model_5.state_dict(), 'model_5_batchnorm.ckpt')"
      ],
      "metadata": {
        "id": "-Hyg3mmDN9bc",
        "outputId": "b57177aa-a728-49a3-aef7-b873ea773e58",
        "colab": {
          "base_uri": "https://localhost:8080/"
        }
      },
      "execution_count": 56,
      "outputs": [
        {
          "output_type": "stream",
          "name": "stdout",
          "text": [
            "Accuracy of the network on the test images: 51.99 %\n"
          ]
        }
      ]
    },
    {
      "cell_type": "markdown",
      "source": [
        "## Задание 6\n",
        "\n",
        "Теперь пробуйте что угодно:\n",
        "* разное число линейных слоев\n",
        "* разные функции активации (вместо ReLU)\n",
        "* комбинации Dropout / BatchNorm\n",
        "* можете попробовать умные инициализации весов и другие трюки из урока\n",
        "\n",
        "Цель - добиться наибольшей accuracy на тесте."
      ],
      "metadata": {
        "id": "7kWi7XzGRqjY"
      }
    },
    {
      "cell_type": "code",
      "source": [
        "# Fully connected neural network\n",
        "class NeuralNet_6(nn.Module):\n",
        "    def __init__(self, input_size, num_classes):\n",
        "        super(NeuralNet_6, self).__init__()\n",
        "        self.fc1 = nn.Linear(input_size, 1024)\n",
        "        self.relu1 = nn.ReLU()\n",
        "        self.bn1 = nn.BatchNorm1d(1024)\n",
        "        self.fc2 = nn.Linear(1024, 512)\n",
        "        self.relu2 = nn.ReLU()\n",
        "        self.fc3 = nn.Linear(512, 256)\n",
        "        self.relu3 = nn.ReLU()\n",
        "        self.bn2 = nn.BatchNorm1d(256)\n",
        "        self.fc4 = nn.Linear(256, 128)\n",
        "        self.relu4 = nn.ReLU()\n",
        "        self.fc5 = nn.Linear(128, 64)\n",
        "        self.relu5 = nn.ReLU()\n",
        "        self.fc_last = nn.Linear(64, num_classes)\n",
        "        # self.apply(self._init_weights)\n",
        "\n",
        "        nn.init.xavier_uniform_(self.fc1.weight)\n",
        "        nn.init.xavier_uniform_(self.fc2.weight)\n",
        "\n",
        "    def _init_weights(self, module): # метод для различных \"умных\" инициализаций весов\n",
        "        if isinstance(module, nn.Linear):\n",
        "            module.weight.data.normal_(mean=0.0, std=0.15)\n",
        "            if module.bias is not None:\n",
        "                module.bias.data.zero_()\n",
        "\n",
        "    def forward(self, x):\n",
        "        out = self.fc1(x)\n",
        "        out = self.relu1(out)\n",
        "        out = self.bn1(out)\n",
        "        # out = self.apply(out)\n",
        "        out = self.fc2(out)\n",
        "        out = self.relu2(out)\n",
        "        out = self.fc3(out)\n",
        "        out = self.relu3(out)\n",
        "        out = self.bn2(out)\n",
        "        out = self.fc4(out)\n",
        "        out = self.relu4(out)\n",
        "        out = self.fc5(out)\n",
        "        out = self.relu5(out)\n",
        "        out = self.fc_last(out)\n",
        "        return out\n",
        "\n",
        "model_6 = NeuralNet_6(input_size, num_classes).to(device)"
      ],
      "metadata": {
        "id": "q4pGqoITR9Uc"
      },
      "execution_count": 80,
      "outputs": []
    },
    {
      "cell_type": "code",
      "source": [
        "model_6"
      ],
      "metadata": {
        "id": "fod73KLHSr4C",
        "outputId": "fb3fe6b0-dbf8-4fa4-9487-fcfb0d6cf565",
        "colab": {
          "base_uri": "https://localhost:8080/"
        }
      },
      "execution_count": 81,
      "outputs": [
        {
          "output_type": "execute_result",
          "data": {
            "text/plain": [
              "NeuralNet_6(\n",
              "  (fc1): Linear(in_features=3072, out_features=1024, bias=True)\n",
              "  (relu1): ReLU()\n",
              "  (bn1): BatchNorm1d(1024, eps=1e-05, momentum=0.1, affine=True, track_running_stats=True)\n",
              "  (fc2): Linear(in_features=1024, out_features=512, bias=True)\n",
              "  (relu2): ReLU()\n",
              "  (fc3): Linear(in_features=512, out_features=256, bias=True)\n",
              "  (relu3): ReLU()\n",
              "  (bn2): BatchNorm1d(256, eps=1e-05, momentum=0.1, affine=True, track_running_stats=True)\n",
              "  (fc4): Linear(in_features=256, out_features=128, bias=True)\n",
              "  (relu4): ReLU()\n",
              "  (fc5): Linear(in_features=128, out_features=64, bias=True)\n",
              "  (relu5): ReLU()\n",
              "  (fc_last): Linear(in_features=64, out_features=10, bias=True)\n",
              ")"
            ]
          },
          "metadata": {},
          "execution_count": 81
        }
      ]
    },
    {
      "cell_type": "code",
      "source": [
        "# Loss and optimizer\n",
        "criterion = nn.CrossEntropyLoss()\n",
        "optimizer = torch.optim.Adam(model_6.parameters(), lr=learning_rate)"
      ],
      "metadata": {
        "id": "cI9FIh__TyXt"
      },
      "execution_count": 82,
      "outputs": []
    },
    {
      "cell_type": "code",
      "source": [
        "np.random.seed(0)\n",
        "random.seed(0)\n",
        "torch.manual_seed(0)\n",
        "\n",
        "loss_log = []\n",
        "\n",
        "# Train the model\n",
        "total_step = len(train_loader)\n",
        "for epoch in range(num_epochs):\n",
        "    for i, (images, labels) in enumerate(train_loader):\n",
        "        # Move tensors to the configured device\n",
        "        images = images.reshape(-1, 32*32*3).to(device)\n",
        "        labels = labels.to(device)\n",
        "\n",
        "        # Forward pass\n",
        "        outputs = model_6(images)\n",
        "        loss = criterion(outputs, labels)\n",
        "\n",
        "        # Backprpagation and optimization\n",
        "        optimizer.zero_grad()\n",
        "        loss.backward()\n",
        "        optimizer.step()\n",
        "\n",
        "        if (i+1) % 100 == 0:\n",
        "            print ('Epoch [{}/{}], Step [{}/{}], Loss: {:.4f}'\n",
        "                   .format(epoch+1, num_epochs, i+1, total_step, loss.item()))\n",
        "            loss_log.append(loss.data.cpu().numpy())"
      ],
      "metadata": {
        "id": "Wjj8ldMbT9-q",
        "outputId": "2aec208b-54a0-4914-b563-58d13288021a",
        "colab": {
          "base_uri": "https://localhost:8080/"
        }
      },
      "execution_count": 83,
      "outputs": [
        {
          "output_type": "stream",
          "name": "stdout",
          "text": [
            "Epoch [1/10], Step [100/1563], Loss: 2.2526\n",
            "Epoch [1/10], Step [200/1563], Loss: 2.0689\n",
            "Epoch [1/10], Step [300/1563], Loss: 1.7677\n",
            "Epoch [1/10], Step [400/1563], Loss: 1.7969\n",
            "Epoch [1/10], Step [500/1563], Loss: 1.9321\n",
            "Epoch [1/10], Step [600/1563], Loss: 1.8568\n",
            "Epoch [1/10], Step [700/1563], Loss: 1.5717\n",
            "Epoch [1/10], Step [800/1563], Loss: 1.8656\n",
            "Epoch [1/10], Step [900/1563], Loss: 1.5930\n",
            "Epoch [1/10], Step [1000/1563], Loss: 1.5377\n",
            "Epoch [1/10], Step [1100/1563], Loss: 1.7801\n",
            "Epoch [1/10], Step [1200/1563], Loss: 1.7620\n",
            "Epoch [1/10], Step [1300/1563], Loss: 1.5807\n",
            "Epoch [1/10], Step [1400/1563], Loss: 1.6189\n",
            "Epoch [1/10], Step [1500/1563], Loss: 1.4602\n",
            "Epoch [2/10], Step [100/1563], Loss: 1.5028\n",
            "Epoch [2/10], Step [200/1563], Loss: 1.3272\n",
            "Epoch [2/10], Step [300/1563], Loss: 1.5864\n",
            "Epoch [2/10], Step [400/1563], Loss: 1.6253\n",
            "Epoch [2/10], Step [500/1563], Loss: 1.3959\n",
            "Epoch [2/10], Step [600/1563], Loss: 1.6861\n",
            "Epoch [2/10], Step [700/1563], Loss: 1.4488\n",
            "Epoch [2/10], Step [800/1563], Loss: 1.7786\n",
            "Epoch [2/10], Step [900/1563], Loss: 1.3842\n",
            "Epoch [2/10], Step [1000/1563], Loss: 1.1827\n",
            "Epoch [2/10], Step [1100/1563], Loss: 1.4050\n",
            "Epoch [2/10], Step [1200/1563], Loss: 1.5571\n",
            "Epoch [2/10], Step [1300/1563], Loss: 1.6456\n",
            "Epoch [2/10], Step [1400/1563], Loss: 1.4572\n",
            "Epoch [2/10], Step [1500/1563], Loss: 1.4615\n",
            "Epoch [3/10], Step [100/1563], Loss: 1.4730\n",
            "Epoch [3/10], Step [200/1563], Loss: 1.5642\n",
            "Epoch [3/10], Step [300/1563], Loss: 1.3557\n",
            "Epoch [3/10], Step [400/1563], Loss: 1.2243\n",
            "Epoch [3/10], Step [500/1563], Loss: 1.2712\n",
            "Epoch [3/10], Step [600/1563], Loss: 1.6577\n",
            "Epoch [3/10], Step [700/1563], Loss: 1.1119\n",
            "Epoch [3/10], Step [800/1563], Loss: 1.6021\n",
            "Epoch [3/10], Step [900/1563], Loss: 1.2265\n",
            "Epoch [3/10], Step [1000/1563], Loss: 1.3896\n",
            "Epoch [3/10], Step [1100/1563], Loss: 1.4645\n",
            "Epoch [3/10], Step [1200/1563], Loss: 1.4027\n",
            "Epoch [3/10], Step [1300/1563], Loss: 1.1980\n",
            "Epoch [3/10], Step [1400/1563], Loss: 1.1648\n",
            "Epoch [3/10], Step [1500/1563], Loss: 1.3376\n",
            "Epoch [4/10], Step [100/1563], Loss: 1.2758\n",
            "Epoch [4/10], Step [200/1563], Loss: 1.4935\n",
            "Epoch [4/10], Step [300/1563], Loss: 1.5118\n",
            "Epoch [4/10], Step [400/1563], Loss: 1.0245\n",
            "Epoch [4/10], Step [500/1563], Loss: 1.3987\n",
            "Epoch [4/10], Step [600/1563], Loss: 1.3035\n",
            "Epoch [4/10], Step [700/1563], Loss: 1.4536\n",
            "Epoch [4/10], Step [800/1563], Loss: 1.4519\n",
            "Epoch [4/10], Step [900/1563], Loss: 1.2113\n",
            "Epoch [4/10], Step [1000/1563], Loss: 1.0628\n",
            "Epoch [4/10], Step [1100/1563], Loss: 1.1201\n",
            "Epoch [4/10], Step [1200/1563], Loss: 1.0126\n",
            "Epoch [4/10], Step [1300/1563], Loss: 1.2127\n",
            "Epoch [4/10], Step [1400/1563], Loss: 1.4825\n",
            "Epoch [4/10], Step [1500/1563], Loss: 1.0776\n",
            "Epoch [5/10], Step [100/1563], Loss: 1.5409\n",
            "Epoch [5/10], Step [200/1563], Loss: 0.9347\n",
            "Epoch [5/10], Step [300/1563], Loss: 1.3632\n",
            "Epoch [5/10], Step [400/1563], Loss: 0.8907\n",
            "Epoch [5/10], Step [500/1563], Loss: 1.1506\n",
            "Epoch [5/10], Step [600/1563], Loss: 1.0637\n",
            "Epoch [5/10], Step [700/1563], Loss: 1.2911\n",
            "Epoch [5/10], Step [800/1563], Loss: 1.1527\n",
            "Epoch [5/10], Step [900/1563], Loss: 1.8530\n",
            "Epoch [5/10], Step [1000/1563], Loss: 0.9776\n",
            "Epoch [5/10], Step [1100/1563], Loss: 1.5610\n",
            "Epoch [5/10], Step [1200/1563], Loss: 1.0750\n",
            "Epoch [5/10], Step [1300/1563], Loss: 1.1201\n",
            "Epoch [5/10], Step [1400/1563], Loss: 1.1362\n",
            "Epoch [5/10], Step [1500/1563], Loss: 1.1570\n",
            "Epoch [6/10], Step [100/1563], Loss: 1.4670\n",
            "Epoch [6/10], Step [200/1563], Loss: 1.1192\n",
            "Epoch [6/10], Step [300/1563], Loss: 0.7820\n",
            "Epoch [6/10], Step [400/1563], Loss: 1.0045\n",
            "Epoch [6/10], Step [500/1563], Loss: 1.2945\n",
            "Epoch [6/10], Step [600/1563], Loss: 1.4232\n",
            "Epoch [6/10], Step [700/1563], Loss: 1.2061\n",
            "Epoch [6/10], Step [800/1563], Loss: 1.2349\n",
            "Epoch [6/10], Step [900/1563], Loss: 1.2827\n",
            "Epoch [6/10], Step [1000/1563], Loss: 1.1884\n",
            "Epoch [6/10], Step [1100/1563], Loss: 1.2803\n",
            "Epoch [6/10], Step [1200/1563], Loss: 1.4812\n",
            "Epoch [6/10], Step [1300/1563], Loss: 1.0899\n",
            "Epoch [6/10], Step [1400/1563], Loss: 1.4662\n",
            "Epoch [6/10], Step [1500/1563], Loss: 1.3496\n",
            "Epoch [7/10], Step [100/1563], Loss: 1.1340\n",
            "Epoch [7/10], Step [200/1563], Loss: 1.1430\n",
            "Epoch [7/10], Step [300/1563], Loss: 1.1305\n",
            "Epoch [7/10], Step [400/1563], Loss: 0.9118\n",
            "Epoch [7/10], Step [500/1563], Loss: 1.3109\n",
            "Epoch [7/10], Step [600/1563], Loss: 1.3013\n",
            "Epoch [7/10], Step [700/1563], Loss: 1.1719\n",
            "Epoch [7/10], Step [800/1563], Loss: 1.0396\n",
            "Epoch [7/10], Step [900/1563], Loss: 1.1209\n",
            "Epoch [7/10], Step [1000/1563], Loss: 1.0705\n",
            "Epoch [7/10], Step [1100/1563], Loss: 1.2008\n",
            "Epoch [7/10], Step [1200/1563], Loss: 1.1553\n",
            "Epoch [7/10], Step [1300/1563], Loss: 1.3944\n",
            "Epoch [7/10], Step [1400/1563], Loss: 1.0957\n",
            "Epoch [7/10], Step [1500/1563], Loss: 1.2100\n",
            "Epoch [8/10], Step [100/1563], Loss: 0.9853\n",
            "Epoch [8/10], Step [200/1563], Loss: 1.1155\n",
            "Epoch [8/10], Step [300/1563], Loss: 0.8936\n",
            "Epoch [8/10], Step [400/1563], Loss: 0.9312\n",
            "Epoch [8/10], Step [500/1563], Loss: 0.8789\n",
            "Epoch [8/10], Step [600/1563], Loss: 1.1355\n",
            "Epoch [8/10], Step [700/1563], Loss: 1.3340\n",
            "Epoch [8/10], Step [800/1563], Loss: 1.0611\n",
            "Epoch [8/10], Step [900/1563], Loss: 1.1367\n",
            "Epoch [8/10], Step [1000/1563], Loss: 1.0714\n",
            "Epoch [8/10], Step [1100/1563], Loss: 1.2437\n",
            "Epoch [8/10], Step [1200/1563], Loss: 1.1346\n",
            "Epoch [8/10], Step [1300/1563], Loss: 1.1291\n",
            "Epoch [8/10], Step [1400/1563], Loss: 0.8358\n",
            "Epoch [8/10], Step [1500/1563], Loss: 0.7664\n",
            "Epoch [9/10], Step [100/1563], Loss: 0.8866\n",
            "Epoch [9/10], Step [200/1563], Loss: 1.0678\n",
            "Epoch [9/10], Step [300/1563], Loss: 1.0901\n",
            "Epoch [9/10], Step [400/1563], Loss: 0.9714\n",
            "Epoch [9/10], Step [500/1563], Loss: 1.1764\n",
            "Epoch [9/10], Step [600/1563], Loss: 1.0446\n",
            "Epoch [9/10], Step [700/1563], Loss: 0.8006\n",
            "Epoch [9/10], Step [800/1563], Loss: 0.9538\n",
            "Epoch [9/10], Step [900/1563], Loss: 0.9747\n",
            "Epoch [9/10], Step [1000/1563], Loss: 0.7876\n",
            "Epoch [9/10], Step [1100/1563], Loss: 1.0061\n",
            "Epoch [9/10], Step [1200/1563], Loss: 1.5991\n",
            "Epoch [9/10], Step [1300/1563], Loss: 1.0357\n",
            "Epoch [9/10], Step [1400/1563], Loss: 0.9260\n",
            "Epoch [9/10], Step [1500/1563], Loss: 0.8104\n",
            "Epoch [10/10], Step [100/1563], Loss: 0.8270\n",
            "Epoch [10/10], Step [200/1563], Loss: 1.1841\n",
            "Epoch [10/10], Step [300/1563], Loss: 0.8969\n",
            "Epoch [10/10], Step [400/1563], Loss: 0.7458\n",
            "Epoch [10/10], Step [500/1563], Loss: 1.0265\n",
            "Epoch [10/10], Step [600/1563], Loss: 1.0054\n",
            "Epoch [10/10], Step [700/1563], Loss: 1.3488\n",
            "Epoch [10/10], Step [800/1563], Loss: 0.8661\n",
            "Epoch [10/10], Step [900/1563], Loss: 1.1079\n",
            "Epoch [10/10], Step [1000/1563], Loss: 0.8211\n",
            "Epoch [10/10], Step [1100/1563], Loss: 1.2612\n",
            "Epoch [10/10], Step [1200/1563], Loss: 1.2939\n",
            "Epoch [10/10], Step [1300/1563], Loss: 0.7911\n",
            "Epoch [10/10], Step [1400/1563], Loss: 1.1751\n",
            "Epoch [10/10], Step [1500/1563], Loss: 0.6390\n"
          ]
        }
      ]
    },
    {
      "cell_type": "code",
      "source": [
        "np.random.seed(0)\n",
        "random.seed(0)\n",
        "torch.manual_seed(0)\n",
        "\n",
        "# Test the model\n",
        "# In the test phase, don't need to compute gradients (for memory efficiency)\n",
        "with torch.no_grad():\n",
        "    correct = 0\n",
        "    total = 0\n",
        "    for images, labels in test_loader:\n",
        "        images = images.reshape(-1, 32*32*3).to(device)\n",
        "        labels = labels.to(device)\n",
        "        outputs = model_6(images)\n",
        "        _, predicted = torch.max(outputs.data, 1)\n",
        "        total += labels.size(0)\n",
        "        correct += (predicted == labels).sum().item()\n",
        "\n",
        "    print('Accuracy of the network on the test images: {} %'.format(100 * correct / total))\n",
        "\n",
        "# Save the model checkpoint\n",
        "torch.save(model_6.state_dict(), 'model_6_xavier.ckpt')"
      ],
      "metadata": {
        "id": "N5wZzcofVpRl",
        "outputId": "de8b2ac3-db2f-46dc-c3bb-419cb0dc80c1",
        "colab": {
          "base_uri": "https://localhost:8080/"
        }
      },
      "execution_count": 84,
      "outputs": [
        {
          "output_type": "stream",
          "name": "stdout",
          "text": [
            "Accuracy of the network on the test images: 53.64 %\n"
          ]
        }
      ]
    }
  ]
}